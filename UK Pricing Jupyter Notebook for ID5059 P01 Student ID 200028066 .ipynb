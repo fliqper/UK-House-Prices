{
 "cells": [
  {
   "cell_type": "markdown",
   "id": "respective-magic",
   "metadata": {},
   "source": [
    "# ID5059 Practical 1 Student ID 200028066"
   ]
  },
  {
   "cell_type": "markdown",
   "id": "global-crest",
   "metadata": {},
   "source": [
    "# 1. Frame the problem\n",
    "\n",
    "<ol>\n",
    "    <li> <b>Frame the problem</b> </li>\n",
    "    <li> Get the data </li>\n",
    "    <li> Explore the data </li>\n",
    "    <li> Prepare the data </li>\n",
    "    <li> Explore Models </li>\n",
    "    <li> Fine-tune models </li>\n",
    "    <li> Present solution </li>\n",
    "    <li> Launch/maintain </li>\n",
    "</ol>\n",
    "\n",
    "Similarly, to the worked example in lectures 4 and 5 the label is a continuous variable hence we have a regression problem. This will determine the data preparation steps and the model selection."
   ]
  },
  {
   "cell_type": "markdown",
   "id": "conditional-lawrence",
   "metadata": {},
   "source": [
    "# 2. Get the data\n",
    "\n",
    "<ol>\n",
    "    <li> Frame the problem </li>\n",
    "    <li> <b>Get the data</b> </li>\n",
    "    <li> Explore the data </li>\n",
    "    <li> Prepare the data </li>\n",
    "    <li> Explore Models </li>\n",
    "    <li> Fine-tune models </li>\n",
    "    <li> Present solution </li>\n",
    "    <li> Launch/maintain </li>\n",
    "</ol>"
   ]
  },
  {
   "cell_type": "markdown",
   "id": "aerial-missouri",
   "metadata": {},
   "source": [
    "Firstly I import required libraries."
   ]
  },
  {
   "cell_type": "code",
   "execution_count": 1,
   "id": "eastern-experience",
   "metadata": {},
   "outputs": [],
   "source": [
    "import pandas as pd\n",
    "import numpy as np\n",
    "import matplotlib.pyplot as plt\n",
    "import glob as glob\n",
    "import random as random\n",
    "from sklearn.model_selection import cross_val_score"
   ]
  },
  {
   "cell_type": "markdown",
   "id": "electrical-effects",
   "metadata": {},
   "source": [
    "I used GitBash to split the rather large data file into 86 pieces with 300 000 lines each. Here is the command I used:\n",
    "\n",
    "split -l300000 'filename'.\n",
    "\n",
    "Using the 'glob' library and a 'for' loop to take random lines from all pieces dated up to 2016 as per the task and combine them in a dataset, which I will use for training. I experimented with different number of samples per file from 10 to 100 000 and I have to admitt the results were not great on either attempt, finally I decided to have 5500 random samples from each piece and this resulted in 418000 entries for training which I believe is enough, because when I tried with more than 1 million the RMSE results were even worse.  \n",
    "\n",
    "I am using the same approach at the end of this notebook to create another Testing dataset by taking random lines from all the rest of the pieces dated 2017 and further.\n",
    "\n",
    "I have put all pieces dated up to 2016 in a folder named 'Train' and the pieces dated on and after 2017 in a folder called 'Test'.\n",
    "\n",
    "I am also naming the columns as they we unnamed in the raw data."
   ]
  },
  {
   "cell_type": "code",
   "execution_count": 2,
   "id": "wanted-final",
   "metadata": {},
   "outputs": [
    {
     "name": "stdout",
     "output_type": "stream",
     "text": [
      "Wall time: 1min 51s\n"
     ]
    }
   ],
   "source": [
    "%%time\n",
    "files = glob.glob('Full data file\\Train/*.csv')\n",
    "data1_l = []\n",
    "\n",
    "\n",
    "for f in files: \n",
    "    n = sum(1 for line in open(f)) - 1\n",
    "    s = 5500\n",
    "    skip = sorted(random.sample(range(1,n+1),n-s))\n",
    "    df = pd.read_csv(f, skiprows=skip,  header=0, names=['some1','price','date','pk','house_type','some2','lease_type','str_num','hou_name','street','town','city','city1','county','g','gg'])\n",
    "    data1_l.append(df)\n",
    "#    if counter>1:\n",
    "#        data1_l.append(df)\n",
    "#    else:\n",
    "#        data1 = df\n",
    "\n",
    "data1 = pd.concat(data1_l)"
   ]
  },
  {
   "cell_type": "markdown",
   "id": "empirical-purchase",
   "metadata": {},
   "source": [
    "# 3. Explore the data (exploratory data analysis)\n",
    "\n",
    "<ol>\n",
    "    <li> Frame the problem </li>\n",
    "    <li> Get the data </li>\n",
    "    <li> <b>Explore the data</b> </li>\n",
    "    <li> Prepare the data </li>\n",
    "    <li> Explore Models </li>\n",
    "    <li> Fine-tune models </li>\n",
    "    <li> Present solution </li>\n",
    "    <li> Launch/maintain </li>\n",
    "</ol>\n",
    "\n",
    "Using the .info and .head methods I am having a first look on the data, \n",
    "how many features we have, what are their data types etc.\n",
    "I have to say I am really impressed how cheap were properties in the UK in the past and how expensive they are now, especially in sought after areas."
   ]
  },
  {
   "cell_type": "code",
   "execution_count": 3,
   "id": "personalized-greenhouse",
   "metadata": {
    "scrolled": true
   },
   "outputs": [
    {
     "name": "stdout",
     "output_type": "stream",
     "text": [
      "<class 'pandas.core.frame.DataFrame'>\n",
      "Int64Index: 418000 entries, 0 to 5499\n",
      "Data columns (total 16 columns):\n",
      " #   Column      Non-Null Count   Dtype \n",
      "---  ------      --------------   ----- \n",
      " 0   some1       418000 non-null  object\n",
      " 1   price       418000 non-null  int64 \n",
      " 2   date        418000 non-null  object\n",
      " 3   pk          417561 non-null  object\n",
      " 4   house_type  418000 non-null  object\n",
      " 5   some2       418000 non-null  object\n",
      " 6   lease_type  418000 non-null  object\n",
      " 7   str_num     417927 non-null  object\n",
      " 8   hou_name    47805 non-null   object\n",
      " 9   street      411696 non-null  object\n",
      " 10  town        295348 non-null  object\n",
      " 11  city        418000 non-null  object\n",
      " 12  city1       418000 non-null  object\n",
      " 13  county      418000 non-null  object\n",
      " 14  g           418000 non-null  object\n",
      " 15  gg          418000 non-null  object\n",
      "dtypes: int64(1), object(15)\n",
      "memory usage: 30.3+ MB\n"
     ]
    }
   ],
   "source": [
    "data1.info()"
   ]
  },
  {
   "cell_type": "code",
   "execution_count": 4,
   "id": "subject-export",
   "metadata": {
    "scrolled": true
   },
   "outputs": [
    {
     "data": {
      "text/html": [
       "<div>\n",
       "<style scoped>\n",
       "    .dataframe tbody tr th:only-of-type {\n",
       "        vertical-align: middle;\n",
       "    }\n",
       "\n",
       "    .dataframe tbody tr th {\n",
       "        vertical-align: top;\n",
       "    }\n",
       "\n",
       "    .dataframe thead th {\n",
       "        text-align: right;\n",
       "    }\n",
       "</style>\n",
       "<table border=\"1\" class=\"dataframe\">\n",
       "  <thead>\n",
       "    <tr style=\"text-align: right;\">\n",
       "      <th></th>\n",
       "      <th>some1</th>\n",
       "      <th>price</th>\n",
       "      <th>date</th>\n",
       "      <th>pk</th>\n",
       "      <th>house_type</th>\n",
       "      <th>some2</th>\n",
       "      <th>lease_type</th>\n",
       "      <th>str_num</th>\n",
       "      <th>hou_name</th>\n",
       "      <th>street</th>\n",
       "      <th>town</th>\n",
       "      <th>city</th>\n",
       "      <th>city1</th>\n",
       "      <th>county</th>\n",
       "      <th>g</th>\n",
       "      <th>gg</th>\n",
       "    </tr>\n",
       "  </thead>\n",
       "  <tbody>\n",
       "    <tr>\n",
       "      <th>0</th>\n",
       "      <td>{7648EFE5-67A0-4728-B5DE-42C565DA1D28}</td>\n",
       "      <td>89995</td>\n",
       "      <td>1995-06-30 00:00</td>\n",
       "      <td>WF6 2TT</td>\n",
       "      <td>D</td>\n",
       "      <td>Y</td>\n",
       "      <td>F</td>\n",
       "      <td>8</td>\n",
       "      <td>NaN</td>\n",
       "      <td>SHAW AVENUE</td>\n",
       "      <td>NORMANTON</td>\n",
       "      <td>NORMANTON</td>\n",
       "      <td>WAKEFIELD</td>\n",
       "      <td>WEST YORKSHIRE</td>\n",
       "      <td>A</td>\n",
       "      <td>A</td>\n",
       "    </tr>\n",
       "    <tr>\n",
       "      <th>1</th>\n",
       "      <td>{94121F47-CBC8-45EB-A5A1-42C623B46695}</td>\n",
       "      <td>46000</td>\n",
       "      <td>1995-11-30 00:00</td>\n",
       "      <td>CW2 8AN</td>\n",
       "      <td>S</td>\n",
       "      <td>N</td>\n",
       "      <td>F</td>\n",
       "      <td>46</td>\n",
       "      <td>NaN</td>\n",
       "      <td>WOODSIDE AVENUE</td>\n",
       "      <td>WISTASTON</td>\n",
       "      <td>CREWE</td>\n",
       "      <td>CREWE AND NANTWICH</td>\n",
       "      <td>CHESHIRE</td>\n",
       "      <td>A</td>\n",
       "      <td>A</td>\n",
       "    </tr>\n",
       "    <tr>\n",
       "      <th>2</th>\n",
       "      <td>{E86A287C-110C-4628-BAFD-49E3C4860C37}</td>\n",
       "      <td>27500</td>\n",
       "      <td>1995-06-30 00:00</td>\n",
       "      <td>MK42 9NQ</td>\n",
       "      <td>T</td>\n",
       "      <td>N</td>\n",
       "      <td>F</td>\n",
       "      <td>41</td>\n",
       "      <td>NaN</td>\n",
       "      <td>REDWOOD GROVE</td>\n",
       "      <td>BEDFORD</td>\n",
       "      <td>BEDFORD</td>\n",
       "      <td>NORTH BEDFORDSHIRE</td>\n",
       "      <td>BEDFORDSHIRE</td>\n",
       "      <td>A</td>\n",
       "      <td>A</td>\n",
       "    </tr>\n",
       "    <tr>\n",
       "      <th>3</th>\n",
       "      <td>{31B400E7-B6F1-4A20-A9B5-465401B530B9}</td>\n",
       "      <td>25000</td>\n",
       "      <td>1995-10-05 00:00</td>\n",
       "      <td>HD7 5NG</td>\n",
       "      <td>T</td>\n",
       "      <td>N</td>\n",
       "      <td>F</td>\n",
       "      <td>32</td>\n",
       "      <td>NaN</td>\n",
       "      <td>HOYLEHOUSE FOLD</td>\n",
       "      <td>LINTHWAITE</td>\n",
       "      <td>HUDDERSFIELD</td>\n",
       "      <td>KIRKLEES</td>\n",
       "      <td>WEST YORKSHIRE</td>\n",
       "      <td>A</td>\n",
       "      <td>A</td>\n",
       "    </tr>\n",
       "    <tr>\n",
       "      <th>4</th>\n",
       "      <td>{C4523837-9746-488B-8CCF-83B5C7C0B271}</td>\n",
       "      <td>142000</td>\n",
       "      <td>1995-01-27 00:00</td>\n",
       "      <td>RG20 8XB</td>\n",
       "      <td>D</td>\n",
       "      <td>N</td>\n",
       "      <td>F</td>\n",
       "      <td>HOMESTEAD</td>\n",
       "      <td>NaN</td>\n",
       "      <td>GREEN LANE</td>\n",
       "      <td>CHIEVELEY</td>\n",
       "      <td>NEWBURY</td>\n",
       "      <td>NEWBURY</td>\n",
       "      <td>BERKSHIRE</td>\n",
       "      <td>A</td>\n",
       "      <td>A</td>\n",
       "    </tr>\n",
       "  </tbody>\n",
       "</table>\n",
       "</div>"
      ],
      "text/plain": [
       "                                    some1   price              date        pk  \\\n",
       "0  {7648EFE5-67A0-4728-B5DE-42C565DA1D28}   89995  1995-06-30 00:00   WF6 2TT   \n",
       "1  {94121F47-CBC8-45EB-A5A1-42C623B46695}   46000  1995-11-30 00:00   CW2 8AN   \n",
       "2  {E86A287C-110C-4628-BAFD-49E3C4860C37}   27500  1995-06-30 00:00  MK42 9NQ   \n",
       "3  {31B400E7-B6F1-4A20-A9B5-465401B530B9}   25000  1995-10-05 00:00   HD7 5NG   \n",
       "4  {C4523837-9746-488B-8CCF-83B5C7C0B271}  142000  1995-01-27 00:00  RG20 8XB   \n",
       "\n",
       "  house_type some2 lease_type    str_num hou_name           street  \\\n",
       "0          D     Y          F          8      NaN      SHAW AVENUE   \n",
       "1          S     N          F         46      NaN  WOODSIDE AVENUE   \n",
       "2          T     N          F         41      NaN    REDWOOD GROVE   \n",
       "3          T     N          F         32      NaN  HOYLEHOUSE FOLD   \n",
       "4          D     N          F  HOMESTEAD      NaN       GREEN LANE   \n",
       "\n",
       "         town          city               city1          county  g gg  \n",
       "0   NORMANTON     NORMANTON           WAKEFIELD  WEST YORKSHIRE  A  A  \n",
       "1   WISTASTON         CREWE  CREWE AND NANTWICH        CHESHIRE  A  A  \n",
       "2     BEDFORD       BEDFORD  NORTH BEDFORDSHIRE    BEDFORDSHIRE  A  A  \n",
       "3  LINTHWAITE  HUDDERSFIELD            KIRKLEES  WEST YORKSHIRE  A  A  \n",
       "4   CHIEVELEY       NEWBURY             NEWBURY       BERKSHIRE  A  A  "
      ]
     },
     "execution_count": 4,
     "metadata": {},
     "output_type": "execute_result"
    }
   ],
   "source": [
    "data1.head(5)"
   ]
  },
  {
   "cell_type": "markdown",
   "id": "median-engine",
   "metadata": {},
   "source": [
    "# 3. Explore the data (exploratory data analysis)\n",
    "\n",
    "<ol>\n",
    "    <li> Frame the problem </li>\n",
    "    <li> Get the data </li>\n",
    "    <li> Explore the data </li>\n",
    "    <li> <b>Prepare the data</b> </li>\n",
    "    <li> Explore Models </li>\n",
    "    <li> Fine-tune models </li>\n",
    "    <li> Present solution </li>\n",
    "    <li> Launch/maintain </li>\n",
    "</ol>\n",
    "As specified in the task I will only use city, house type and lease type to predict the price, hence I am dropping all the other unnecessary columns. Also displaying the result, so I can inspect it and see the year:"
   ]
  },
  {
   "cell_type": "code",
   "execution_count": 5,
   "id": "technological-blend",
   "metadata": {
    "scrolled": true
   },
   "outputs": [
    {
     "data": {
      "text/html": [
       "<div>\n",
       "<style scoped>\n",
       "    .dataframe tbody tr th:only-of-type {\n",
       "        vertical-align: middle;\n",
       "    }\n",
       "\n",
       "    .dataframe tbody tr th {\n",
       "        vertical-align: top;\n",
       "    }\n",
       "\n",
       "    .dataframe thead th {\n",
       "        text-align: right;\n",
       "    }\n",
       "</style>\n",
       "<table border=\"1\" class=\"dataframe\">\n",
       "  <thead>\n",
       "    <tr style=\"text-align: right;\">\n",
       "      <th></th>\n",
       "      <th>price</th>\n",
       "      <th>date</th>\n",
       "      <th>house_type</th>\n",
       "      <th>lease_type</th>\n",
       "      <th>city</th>\n",
       "    </tr>\n",
       "  </thead>\n",
       "  <tbody>\n",
       "    <tr>\n",
       "      <th>0</th>\n",
       "      <td>89995</td>\n",
       "      <td>1995-06-30 00:00</td>\n",
       "      <td>D</td>\n",
       "      <td>F</td>\n",
       "      <td>NORMANTON</td>\n",
       "    </tr>\n",
       "    <tr>\n",
       "      <th>1</th>\n",
       "      <td>46000</td>\n",
       "      <td>1995-11-30 00:00</td>\n",
       "      <td>S</td>\n",
       "      <td>F</td>\n",
       "      <td>CREWE</td>\n",
       "    </tr>\n",
       "    <tr>\n",
       "      <th>2</th>\n",
       "      <td>27500</td>\n",
       "      <td>1995-06-30 00:00</td>\n",
       "      <td>T</td>\n",
       "      <td>F</td>\n",
       "      <td>BEDFORD</td>\n",
       "    </tr>\n",
       "    <tr>\n",
       "      <th>3</th>\n",
       "      <td>25000</td>\n",
       "      <td>1995-10-05 00:00</td>\n",
       "      <td>T</td>\n",
       "      <td>F</td>\n",
       "      <td>HUDDERSFIELD</td>\n",
       "    </tr>\n",
       "    <tr>\n",
       "      <th>4</th>\n",
       "      <td>142000</td>\n",
       "      <td>1995-01-27 00:00</td>\n",
       "      <td>D</td>\n",
       "      <td>F</td>\n",
       "      <td>NEWBURY</td>\n",
       "    </tr>\n",
       "  </tbody>\n",
       "</table>\n",
       "</div>"
      ],
      "text/plain": [
       "    price              date house_type lease_type          city\n",
       "0   89995  1995-06-30 00:00          D          F     NORMANTON\n",
       "1   46000  1995-11-30 00:00          S          F         CREWE\n",
       "2   27500  1995-06-30 00:00          T          F       BEDFORD\n",
       "3   25000  1995-10-05 00:00          T          F  HUDDERSFIELD\n",
       "4  142000  1995-01-27 00:00          D          F       NEWBURY"
      ]
     },
     "execution_count": 5,
     "metadata": {},
     "output_type": "execute_result"
    }
   ],
   "source": [
    "data1.drop(['some1', 'pk', 'some2',\n",
    "       'str_num', 'hou_name', 'street', 'town', 'city1', 'county', 'g',\n",
    "       'gg'], axis=1, inplace=True)\n",
    "data1.head(5)"
   ]
  },
  {
   "cell_type": "markdown",
   "id": "cellular-temple",
   "metadata": {},
   "source": [
    "A quick check to make sure I have data from different years, below."
   ]
  },
  {
   "cell_type": "code",
   "execution_count": 6,
   "id": "focused-checklist",
   "metadata": {},
   "outputs": [
    {
     "name": "stdout",
     "output_type": "stream",
     "text": [
      "2016-03-31 00:00    613\n",
      "2002-06-28 00:00    515\n",
      "2002-05-31 00:00    506\n",
      "2006-06-30 00:00    496\n",
      "2001-06-29 00:00    477\n",
      "                   ... \n",
      "2003-06-08 00:00      1\n",
      "1998-09-20 00:00      1\n",
      "2004-09-04 00:00      1\n",
      "2013-10-13 00:00      1\n",
      "1999-01-23 00:00      1\n",
      "Name: date, Length: 6819, dtype: int64\n"
     ]
    }
   ],
   "source": [
    "print(data1['date'].value_counts())"
   ]
  },
  {
   "cell_type": "markdown",
   "id": "economic-toolbox",
   "metadata": {},
   "source": [
    "After I have seen the year, I can drop it as well and leave only the columns specified in the task."
   ]
  },
  {
   "cell_type": "code",
   "execution_count": 7,
   "id": "diagnostic-arrest",
   "metadata": {},
   "outputs": [
    {
     "data": {
      "text/html": [
       "<div>\n",
       "<style scoped>\n",
       "    .dataframe tbody tr th:only-of-type {\n",
       "        vertical-align: middle;\n",
       "    }\n",
       "\n",
       "    .dataframe tbody tr th {\n",
       "        vertical-align: top;\n",
       "    }\n",
       "\n",
       "    .dataframe thead th {\n",
       "        text-align: right;\n",
       "    }\n",
       "</style>\n",
       "<table border=\"1\" class=\"dataframe\">\n",
       "  <thead>\n",
       "    <tr style=\"text-align: right;\">\n",
       "      <th></th>\n",
       "      <th>price</th>\n",
       "      <th>house_type</th>\n",
       "      <th>lease_type</th>\n",
       "      <th>city</th>\n",
       "    </tr>\n",
       "  </thead>\n",
       "  <tbody>\n",
       "    <tr>\n",
       "      <th>0</th>\n",
       "      <td>89995</td>\n",
       "      <td>D</td>\n",
       "      <td>F</td>\n",
       "      <td>NORMANTON</td>\n",
       "    </tr>\n",
       "    <tr>\n",
       "      <th>1</th>\n",
       "      <td>46000</td>\n",
       "      <td>S</td>\n",
       "      <td>F</td>\n",
       "      <td>CREWE</td>\n",
       "    </tr>\n",
       "    <tr>\n",
       "      <th>2</th>\n",
       "      <td>27500</td>\n",
       "      <td>T</td>\n",
       "      <td>F</td>\n",
       "      <td>BEDFORD</td>\n",
       "    </tr>\n",
       "    <tr>\n",
       "      <th>3</th>\n",
       "      <td>25000</td>\n",
       "      <td>T</td>\n",
       "      <td>F</td>\n",
       "      <td>HUDDERSFIELD</td>\n",
       "    </tr>\n",
       "    <tr>\n",
       "      <th>4</th>\n",
       "      <td>142000</td>\n",
       "      <td>D</td>\n",
       "      <td>F</td>\n",
       "      <td>NEWBURY</td>\n",
       "    </tr>\n",
       "  </tbody>\n",
       "</table>\n",
       "</div>"
      ],
      "text/plain": [
       "    price house_type lease_type          city\n",
       "0   89995          D          F     NORMANTON\n",
       "1   46000          S          F         CREWE\n",
       "2   27500          T          F       BEDFORD\n",
       "3   25000          T          F  HUDDERSFIELD\n",
       "4  142000          D          F       NEWBURY"
      ]
     },
     "execution_count": 7,
     "metadata": {},
     "output_type": "execute_result"
    }
   ],
   "source": [
    "data1.drop(['date'], axis=1, inplace=True)\n",
    "data1.head(5)"
   ]
  },
  {
   "cell_type": "markdown",
   "id": "agreed-proof",
   "metadata": {},
   "source": [
    "I check the remaining columns' data types and also for any null values."
   ]
  },
  {
   "cell_type": "code",
   "execution_count": 42,
   "id": "gentle-pilot",
   "metadata": {
    "scrolled": true
   },
   "outputs": [
    {
     "name": "stdout",
     "output_type": "stream",
     "text": [
      "<class 'pandas.core.frame.DataFrame'>\n",
      "Int64Index: 418000 entries, 0 to 5499\n",
      "Data columns (total 4 columns):\n",
      " #   Column      Non-Null Count   Dtype \n",
      "---  ------      --------------   ----- \n",
      " 0   price       418000 non-null  int64 \n",
      " 1   house_type  418000 non-null  object\n",
      " 2   lease_type  418000 non-null  object\n",
      " 3   city        418000 non-null  object\n",
      "dtypes: int64(1), object(3)\n",
      "memory usage: 11.2+ MB\n"
     ]
    }
   ],
   "source": [
    "data1.info()"
   ]
  },
  {
   "cell_type": "markdown",
   "id": "polish-rally",
   "metadata": {},
   "source": [
    "For the regression models that I will use I need only numerical feature values, preferably between -1 and 1. I achieve that by using pandas get_dummies for house type and lease type columns. Similarly to OneHotEncoder this turns house type into two columns - if it is a freehold property we have '1' in the 'lease_type_F' column and '0' on the other one 'lease_type_L', or vice versa if the property is a leasehold. The same is done for the house type, but with more columns to reflect all the types in the data. Also displaying a sample of the updated table to inspect the results."
   ]
  },
  {
   "cell_type": "code",
   "execution_count": 8,
   "id": "unlimited-daughter",
   "metadata": {
    "scrolled": true
   },
   "outputs": [
    {
     "data": {
      "text/html": [
       "<div>\n",
       "<style scoped>\n",
       "    .dataframe tbody tr th:only-of-type {\n",
       "        vertical-align: middle;\n",
       "    }\n",
       "\n",
       "    .dataframe tbody tr th {\n",
       "        vertical-align: top;\n",
       "    }\n",
       "\n",
       "    .dataframe thead th {\n",
       "        text-align: right;\n",
       "    }\n",
       "</style>\n",
       "<table border=\"1\" class=\"dataframe\">\n",
       "  <thead>\n",
       "    <tr style=\"text-align: right;\">\n",
       "      <th></th>\n",
       "      <th>price</th>\n",
       "      <th>city</th>\n",
       "      <th>lease_type_F</th>\n",
       "      <th>lease_type_L</th>\n",
       "      <th>lease_type_U</th>\n",
       "      <th>house_type_D</th>\n",
       "      <th>house_type_F</th>\n",
       "      <th>house_type_O</th>\n",
       "      <th>house_type_S</th>\n",
       "      <th>house_type_T</th>\n",
       "    </tr>\n",
       "  </thead>\n",
       "  <tbody>\n",
       "    <tr>\n",
       "      <th>0</th>\n",
       "      <td>89995</td>\n",
       "      <td>NORMANTON</td>\n",
       "      <td>1</td>\n",
       "      <td>0</td>\n",
       "      <td>0</td>\n",
       "      <td>1</td>\n",
       "      <td>0</td>\n",
       "      <td>0</td>\n",
       "      <td>0</td>\n",
       "      <td>0</td>\n",
       "    </tr>\n",
       "    <tr>\n",
       "      <th>1</th>\n",
       "      <td>46000</td>\n",
       "      <td>CREWE</td>\n",
       "      <td>1</td>\n",
       "      <td>0</td>\n",
       "      <td>0</td>\n",
       "      <td>0</td>\n",
       "      <td>0</td>\n",
       "      <td>0</td>\n",
       "      <td>1</td>\n",
       "      <td>0</td>\n",
       "    </tr>\n",
       "    <tr>\n",
       "      <th>2</th>\n",
       "      <td>27500</td>\n",
       "      <td>BEDFORD</td>\n",
       "      <td>1</td>\n",
       "      <td>0</td>\n",
       "      <td>0</td>\n",
       "      <td>0</td>\n",
       "      <td>0</td>\n",
       "      <td>0</td>\n",
       "      <td>0</td>\n",
       "      <td>1</td>\n",
       "    </tr>\n",
       "    <tr>\n",
       "      <th>3</th>\n",
       "      <td>25000</td>\n",
       "      <td>HUDDERSFIELD</td>\n",
       "      <td>1</td>\n",
       "      <td>0</td>\n",
       "      <td>0</td>\n",
       "      <td>0</td>\n",
       "      <td>0</td>\n",
       "      <td>0</td>\n",
       "      <td>0</td>\n",
       "      <td>1</td>\n",
       "    </tr>\n",
       "    <tr>\n",
       "      <th>4</th>\n",
       "      <td>142000</td>\n",
       "      <td>NEWBURY</td>\n",
       "      <td>1</td>\n",
       "      <td>0</td>\n",
       "      <td>0</td>\n",
       "      <td>1</td>\n",
       "      <td>0</td>\n",
       "      <td>0</td>\n",
       "      <td>0</td>\n",
       "      <td>0</td>\n",
       "    </tr>\n",
       "  </tbody>\n",
       "</table>\n",
       "</div>"
      ],
      "text/plain": [
       "    price          city  lease_type_F  lease_type_L  lease_type_U  \\\n",
       "0   89995     NORMANTON             1             0             0   \n",
       "1   46000         CREWE             1             0             0   \n",
       "2   27500       BEDFORD             1             0             0   \n",
       "3   25000  HUDDERSFIELD             1             0             0   \n",
       "4  142000       NEWBURY             1             0             0   \n",
       "\n",
       "   house_type_D  house_type_F  house_type_O  house_type_S  house_type_T  \n",
       "0             1             0             0             0             0  \n",
       "1             0             0             0             1             0  \n",
       "2             0             0             0             0             1  \n",
       "3             0             0             0             0             1  \n",
       "4             1             0             0             0             0  "
      ]
     },
     "execution_count": 8,
     "metadata": {},
     "output_type": "execute_result"
    }
   ],
   "source": [
    "data1_oneho = data1.copy()\n",
    "data1_oneho = pd.get_dummies(data1_oneho, columns=['lease_type'], prefix = ['lease_type'])\n",
    "data1_oneho = pd.get_dummies(data1_oneho, columns=['house_type'], prefix = ['house_type'])\n",
    "data1_oneho.head(5)"
   ]
  },
  {
   "cell_type": "code",
   "execution_count": 9,
   "id": "municipal-theory",
   "metadata": {
    "scrolled": true
   },
   "outputs": [
    {
     "name": "stdout",
     "output_type": "stream",
     "text": [
      "<class 'pandas.core.frame.DataFrame'>\n",
      "Int64Index: 418000 entries, 0 to 5499\n",
      "Data columns (total 10 columns):\n",
      " #   Column        Non-Null Count   Dtype \n",
      "---  ------        --------------   ----- \n",
      " 0   price         418000 non-null  int64 \n",
      " 1   city          418000 non-null  object\n",
      " 2   lease_type_F  418000 non-null  uint8 \n",
      " 3   lease_type_L  418000 non-null  uint8 \n",
      " 4   lease_type_U  418000 non-null  uint8 \n",
      " 5   house_type_D  418000 non-null  uint8 \n",
      " 6   house_type_F  418000 non-null  uint8 \n",
      " 7   house_type_O  418000 non-null  uint8 \n",
      " 8   house_type_S  418000 non-null  uint8 \n",
      " 9   house_type_T  418000 non-null  uint8 \n",
      "dtypes: int64(1), object(1), uint8(8)\n",
      "memory usage: 11.2+ MB\n"
     ]
    }
   ],
   "source": [
    "data1_oneho.info()"
   ]
  },
  {
   "cell_type": "code",
   "execution_count": 10,
   "id": "extraordinary-humanity",
   "metadata": {
    "scrolled": false
   },
   "outputs": [
    {
     "name": "stdout",
     "output_type": "stream",
     "text": [
      "LONDON              33012\n",
      "MANCHESTER           6864\n",
      "BRISTOL              6268\n",
      "BIRMINGHAM           6162\n",
      "NOTTINGHAM           5431\n",
      "                    ...  \n",
      "TALSARNAU               1\n",
      "NEWCASTLETON            1\n",
      "RAVENGLASS              1\n",
      "HINTON ST GEORGE        1\n",
      "BRYNTEG                 1\n",
      "Name: city, Length: 1161, dtype: int64\n"
     ]
    }
   ],
   "source": [
    "print(data1_oneho['city'].value_counts())"
   ]
  },
  {
   "cell_type": "markdown",
   "id": "hollywood-kansas",
   "metadata": {},
   "source": [
    "After checking the data again, I can see that the only object left is the city column. As per specification I only need it to indicate if the property is located in London or not. I decided to transform the values in this column to 1 if it is London or to 0 for any other location."
   ]
  },
  {
   "cell_type": "code",
   "execution_count": 11,
   "id": "available-jerusalem",
   "metadata": {
    "scrolled": false
   },
   "outputs": [
    {
     "data": {
      "text/plain": [
       "0    384988\n",
       "1     33012\n",
       "Name: city, dtype: int64"
      ]
     },
     "execution_count": 11,
     "metadata": {},
     "output_type": "execute_result"
    }
   ],
   "source": [
    "data1_oneho.loc[data1_oneho['city'] == 'LONDON', ['city']] = 1\n",
    "data1_oneho.loc[data1_oneho['city'] != 1, ['city']] = 0\n",
    "data1_oneho['city'].value_counts()"
   ]
  },
  {
   "cell_type": "markdown",
   "id": "convenient-parameter",
   "metadata": {},
   "source": [
    "Now I have only two values in the city column 1 for London and 0 for anything else. In order to make it easier for some models to train on the data, I will split this column in two - if the property is in London there will be '1' in the one column and '0' in the other, and vice versa. Just like I did for the house and lease types."
   ]
  },
  {
   "cell_type": "code",
   "execution_count": 12,
   "id": "legal-fitting",
   "metadata": {
    "scrolled": true
   },
   "outputs": [
    {
     "name": "stdout",
     "output_type": "stream",
     "text": [
      "<class 'pandas.core.frame.DataFrame'>\n",
      "Int64Index: 418000 entries, 0 to 5499\n",
      "Data columns (total 11 columns):\n",
      " #   Column        Non-Null Count   Dtype\n",
      "---  ------        --------------   -----\n",
      " 0   price         418000 non-null  int64\n",
      " 1   lease_type_F  418000 non-null  uint8\n",
      " 2   lease_type_L  418000 non-null  uint8\n",
      " 3   lease_type_U  418000 non-null  uint8\n",
      " 4   house_type_D  418000 non-null  uint8\n",
      " 5   house_type_F  418000 non-null  uint8\n",
      " 6   house_type_O  418000 non-null  uint8\n",
      " 7   house_type_S  418000 non-null  uint8\n",
      " 8   house_type_T  418000 non-null  uint8\n",
      " 9   city_0        418000 non-null  uint8\n",
      " 10  city_1        418000 non-null  uint8\n",
      "dtypes: int64(1), uint8(10)\n",
      "memory usage: 10.4 MB\n"
     ]
    }
   ],
   "source": [
    "data1_oneho = pd.get_dummies(data1_oneho, columns=['city'], prefix = ['city'])\n",
    "data1_oneho.info()"
   ]
  },
  {
   "cell_type": "code",
   "execution_count": 13,
   "id": "athletic-coordination",
   "metadata": {
    "scrolled": true
   },
   "outputs": [
    {
     "name": "stdout",
     "output_type": "stream",
     "text": [
      "250000    4673\n",
      "125000    3947\n",
      "120000    3581\n",
      "60000     3173\n",
      "110000    3160\n",
      "          ... \n",
      "193332       1\n",
      "476034       1\n",
      "183347       1\n",
      "89153        1\n",
      "36846        1\n",
      "Name: price, Length: 13699, dtype: int64\n"
     ]
    }
   ],
   "source": [
    "print(data1_oneho['price'].value_counts())"
   ]
  },
  {
   "cell_type": "markdown",
   "id": "noticed-peoples",
   "metadata": {},
   "source": [
    "Now as in the lectures I will try to produce some visualisations in order to get better understanding on the data. I also tried that in another application called Tableau Desktop, which we use for another module CS5044."
   ]
  },
  {
   "cell_type": "code",
   "execution_count": 15,
   "id": "front-decrease",
   "metadata": {
    "scrolled": false
   },
   "outputs": [
    {
     "data": {
      "image/png": "[encoded data removed]",
      "text/plain": [
       "<Figure size 432x288 with 1 Axes>"
      ]
     },
     "metadata": {
      "needs_background": "light"
     },
     "output_type": "display_data"
    }
   ],
   "source": [
    "data1_oneho['price'].hist(bins=33)\n",
    "plt.show()"
   ]
  },
  {
   "cell_type": "code",
   "execution_count": 16,
   "id": "going-maker",
   "metadata": {
    "scrolled": false
   },
   "outputs": [
    {
     "data": {
      "image/png": "[encoded data removed]",
      "text/plain": [
       "<Figure size 720x720 with 12 Axes>"
      ]
     },
     "metadata": {
      "needs_background": "light"
     },
     "output_type": "display_data"
    }
   ],
   "source": [
    "data1_oneho.hist(bins=35,figsize=(10,10))\n",
    "plt.show()"
   ]
  },
  {
   "cell_type": "markdown",
   "id": "interstate-hygiene",
   "metadata": {},
   "source": [
    "Using the 'corr' method to calculate a correlation matrix and find out which features/columns are linearly correlated with our label 'price'. If the number is positive the price grows when the feature grows, if the number is negative the price decreases when the feature grows."
   ]
  },
  {
   "cell_type": "code",
   "execution_count": 14,
   "id": "institutional-syndication",
   "metadata": {},
   "outputs": [],
   "source": [
    "data1_onehoR = data1_oneho.corr()"
   ]
  },
  {
   "cell_type": "code",
   "execution_count": 15,
   "id": "interpreted-abraham",
   "metadata": {
    "scrolled": true
   },
   "outputs": [
    {
     "data": {
      "text/html": [
       "<div>\n",
       "<style scoped>\n",
       "    .dataframe tbody tr th:only-of-type {\n",
       "        vertical-align: middle;\n",
       "    }\n",
       "\n",
       "    .dataframe tbody tr th {\n",
       "        vertical-align: top;\n",
       "    }\n",
       "\n",
       "    .dataframe thead th {\n",
       "        text-align: right;\n",
       "    }\n",
       "</style>\n",
       "<table border=\"1\" class=\"dataframe\">\n",
       "  <thead>\n",
       "    <tr style=\"text-align: right;\">\n",
       "      <th></th>\n",
       "      <th>price</th>\n",
       "      <th>lease_type_F</th>\n",
       "      <th>lease_type_L</th>\n",
       "      <th>lease_type_U</th>\n",
       "      <th>house_type_D</th>\n",
       "      <th>house_type_F</th>\n",
       "      <th>house_type_O</th>\n",
       "      <th>house_type_S</th>\n",
       "      <th>house_type_T</th>\n",
       "      <th>city_0</th>\n",
       "      <th>city_1</th>\n",
       "    </tr>\n",
       "  </thead>\n",
       "  <tbody>\n",
       "    <tr>\n",
       "      <th>price</th>\n",
       "      <td>1.000000</td>\n",
       "      <td>0.013450</td>\n",
       "      <td>-0.013450</td>\n",
       "      <td>-0.000030</td>\n",
       "      <td>0.075050</td>\n",
       "      <td>-0.004402</td>\n",
       "      <td>0.175091</td>\n",
       "      <td>-0.037655</td>\n",
       "      <td>-0.055361</td>\n",
       "      <td>-0.113833</td>\n",
       "      <td>0.113833</td>\n",
       "    </tr>\n",
       "    <tr>\n",
       "      <th>lease_type_F</th>\n",
       "      <td>0.013450</td>\n",
       "      <td>1.000000</td>\n",
       "      <td>-0.999927</td>\n",
       "      <td>-0.009215</td>\n",
       "      <td>0.255452</td>\n",
       "      <td>-0.817277</td>\n",
       "      <td>-0.002255</td>\n",
       "      <td>0.232289</td>\n",
       "      <td>0.225040</td>\n",
       "      <td>0.276392</td>\n",
       "      <td>-0.276392</td>\n",
       "    </tr>\n",
       "    <tr>\n",
       "      <th>lease_type_L</th>\n",
       "      <td>-0.013450</td>\n",
       "      <td>-0.999927</td>\n",
       "      <td>1.000000</td>\n",
       "      <td>-0.002856</td>\n",
       "      <td>-0.255495</td>\n",
       "      <td>0.817294</td>\n",
       "      <td>0.002259</td>\n",
       "      <td>-0.232273</td>\n",
       "      <td>-0.225032</td>\n",
       "      <td>-0.276379</td>\n",
       "      <td>0.276379</td>\n",
       "    </tr>\n",
       "    <tr>\n",
       "      <th>lease_type_U</th>\n",
       "      <td>-0.000030</td>\n",
       "      <td>-0.009215</td>\n",
       "      <td>-0.002856</td>\n",
       "      <td>1.000000</td>\n",
       "      <td>0.002725</td>\n",
       "      <td>0.001213</td>\n",
       "      <td>-0.000366</td>\n",
       "      <td>-0.002124</td>\n",
       "      <td>-0.001389</td>\n",
       "      <td>-0.001956</td>\n",
       "      <td>0.001956</td>\n",
       "    </tr>\n",
       "    <tr>\n",
       "      <th>house_type_D</th>\n",
       "      <td>0.075050</td>\n",
       "      <td>0.255452</td>\n",
       "      <td>-0.255495</td>\n",
       "      <td>0.002725</td>\n",
       "      <td>1.000000</td>\n",
       "      <td>-0.257960</td>\n",
       "      <td>-0.039101</td>\n",
       "      <td>-0.338124</td>\n",
       "      <td>-0.364191</td>\n",
       "      <td>0.147038</td>\n",
       "      <td>-0.147038</td>\n",
       "    </tr>\n",
       "    <tr>\n",
       "      <th>house_type_F</th>\n",
       "      <td>-0.004402</td>\n",
       "      <td>-0.817277</td>\n",
       "      <td>0.817294</td>\n",
       "      <td>0.001213</td>\n",
       "      <td>-0.257960</td>\n",
       "      <td>1.000000</td>\n",
       "      <td>-0.033631</td>\n",
       "      <td>-0.290821</td>\n",
       "      <td>-0.313242</td>\n",
       "      <td>-0.336096</td>\n",
       "      <td>0.336096</td>\n",
       "    </tr>\n",
       "    <tr>\n",
       "      <th>house_type_O</th>\n",
       "      <td>0.175091</td>\n",
       "      <td>-0.002255</td>\n",
       "      <td>0.002259</td>\n",
       "      <td>-0.000366</td>\n",
       "      <td>-0.039101</td>\n",
       "      <td>-0.033631</td>\n",
       "      <td>1.000000</td>\n",
       "      <td>-0.044082</td>\n",
       "      <td>-0.047480</td>\n",
       "      <td>-0.005441</td>\n",
       "      <td>0.005441</td>\n",
       "    </tr>\n",
       "    <tr>\n",
       "      <th>house_type_S</th>\n",
       "      <td>-0.037655</td>\n",
       "      <td>0.232289</td>\n",
       "      <td>-0.232273</td>\n",
       "      <td>-0.002124</td>\n",
       "      <td>-0.338124</td>\n",
       "      <td>-0.290821</td>\n",
       "      <td>-0.044082</td>\n",
       "      <td>1.000000</td>\n",
       "      <td>-0.410586</td>\n",
       "      <td>0.130154</td>\n",
       "      <td>-0.130154</td>\n",
       "    </tr>\n",
       "    <tr>\n",
       "      <th>house_type_T</th>\n",
       "      <td>-0.055361</td>\n",
       "      <td>0.225040</td>\n",
       "      <td>-0.225032</td>\n",
       "      <td>-0.001389</td>\n",
       "      <td>-0.364191</td>\n",
       "      <td>-0.313242</td>\n",
       "      <td>-0.047480</td>\n",
       "      <td>-0.410586</td>\n",
       "      <td>1.000000</td>\n",
       "      <td>0.021307</td>\n",
       "      <td>-0.021307</td>\n",
       "    </tr>\n",
       "    <tr>\n",
       "      <th>city_0</th>\n",
       "      <td>-0.113833</td>\n",
       "      <td>0.276392</td>\n",
       "      <td>-0.276379</td>\n",
       "      <td>-0.001956</td>\n",
       "      <td>0.147038</td>\n",
       "      <td>-0.336096</td>\n",
       "      <td>-0.005441</td>\n",
       "      <td>0.130154</td>\n",
       "      <td>0.021307</td>\n",
       "      <td>1.000000</td>\n",
       "      <td>-1.000000</td>\n",
       "    </tr>\n",
       "    <tr>\n",
       "      <th>city_1</th>\n",
       "      <td>0.113833</td>\n",
       "      <td>-0.276392</td>\n",
       "      <td>0.276379</td>\n",
       "      <td>0.001956</td>\n",
       "      <td>-0.147038</td>\n",
       "      <td>0.336096</td>\n",
       "      <td>0.005441</td>\n",
       "      <td>-0.130154</td>\n",
       "      <td>-0.021307</td>\n",
       "      <td>-1.000000</td>\n",
       "      <td>1.000000</td>\n",
       "    </tr>\n",
       "  </tbody>\n",
       "</table>\n",
       "</div>"
      ],
      "text/plain": [
       "                 price  lease_type_F  lease_type_L  lease_type_U  \\\n",
       "price         1.000000      0.013450     -0.013450     -0.000030   \n",
       "lease_type_F  0.013450      1.000000     -0.999927     -0.009215   \n",
       "lease_type_L -0.013450     -0.999927      1.000000     -0.002856   \n",
       "lease_type_U -0.000030     -0.009215     -0.002856      1.000000   \n",
       "house_type_D  0.075050      0.255452     -0.255495      0.002725   \n",
       "house_type_F -0.004402     -0.817277      0.817294      0.001213   \n",
       "house_type_O  0.175091     -0.002255      0.002259     -0.000366   \n",
       "house_type_S -0.037655      0.232289     -0.232273     -0.002124   \n",
       "house_type_T -0.055361      0.225040     -0.225032     -0.001389   \n",
       "city_0       -0.113833      0.276392     -0.276379     -0.001956   \n",
       "city_1        0.113833     -0.276392      0.276379      0.001956   \n",
       "\n",
       "              house_type_D  house_type_F  house_type_O  house_type_S  \\\n",
       "price             0.075050     -0.004402      0.175091     -0.037655   \n",
       "lease_type_F      0.255452     -0.817277     -0.002255      0.232289   \n",
       "lease_type_L     -0.255495      0.817294      0.002259     -0.232273   \n",
       "lease_type_U      0.002725      0.001213     -0.000366     -0.002124   \n",
       "house_type_D      1.000000     -0.257960     -0.039101     -0.338124   \n",
       "house_type_F     -0.257960      1.000000     -0.033631     -0.290821   \n",
       "house_type_O     -0.039101     -0.033631      1.000000     -0.044082   \n",
       "house_type_S     -0.338124     -0.290821     -0.044082      1.000000   \n",
       "house_type_T     -0.364191     -0.313242     -0.047480     -0.410586   \n",
       "city_0            0.147038     -0.336096     -0.005441      0.130154   \n",
       "city_1           -0.147038      0.336096      0.005441     -0.130154   \n",
       "\n",
       "              house_type_T    city_0    city_1  \n",
       "price            -0.055361 -0.113833  0.113833  \n",
       "lease_type_F      0.225040  0.276392 -0.276392  \n",
       "lease_type_L     -0.225032 -0.276379  0.276379  \n",
       "lease_type_U     -0.001389 -0.001956  0.001956  \n",
       "house_type_D     -0.364191  0.147038 -0.147038  \n",
       "house_type_F     -0.313242 -0.336096  0.336096  \n",
       "house_type_O     -0.047480 -0.005441  0.005441  \n",
       "house_type_S     -0.410586  0.130154 -0.130154  \n",
       "house_type_T      1.000000  0.021307 -0.021307  \n",
       "city_0            0.021307  1.000000 -1.000000  \n",
       "city_1           -0.021307 -1.000000  1.000000  "
      ]
     },
     "execution_count": 15,
     "metadata": {},
     "output_type": "execute_result"
    }
   ],
   "source": [
    "data1_onehoR.head(len(data1_onehoR))"
   ]
  },
  {
   "cell_type": "markdown",
   "id": "physical-christianity",
   "metadata": {},
   "source": [
    "Now I isolate the correlations for 'price' as this is the only one of interest."
   ]
  },
  {
   "cell_type": "code",
   "execution_count": 16,
   "id": "introductory-gothic",
   "metadata": {
    "scrolled": false
   },
   "outputs": [
    {
     "data": {
      "text/plain": [
       "price           1.000000\n",
       "house_type_O    0.175091\n",
       "city_1          0.113833\n",
       "house_type_D    0.075050\n",
       "lease_type_F    0.013450\n",
       "lease_type_U   -0.000030\n",
       "house_type_F   -0.004402\n",
       "lease_type_L   -0.013450\n",
       "house_type_S   -0.037655\n",
       "house_type_T   -0.055361\n",
       "city_0         -0.113833\n",
       "Name: price, dtype: float64"
      ]
     },
     "execution_count": 16,
     "metadata": {},
     "output_type": "execute_result"
    }
   ],
   "source": [
    "data1_onehoR[\"price\"].sort_values(ascending=False)"
   ]
  },
  {
   "cell_type": "markdown",
   "id": "controversial-appliance",
   "metadata": {},
   "source": [
    "Looks like the 'house_type_O' or 'House Type Other' has the strongest positive linear correlation with my target/label (price), followed by City_1 (the property being in the London area), and finally the third most meaningfull positive correlation is Detached property. The only significant negative correlation is 'city_0' - it makes perfect sense for a property to be cheaper if is outside the London area.\n",
    "\n",
    "All these make sense because if a property is in London and/or it is detached these of course make it much dearer.\n",
    "\n",
    "That OTHER house type also makes sense because I presume it means that the property is a mansion, a period Victorian, Georgian or other historically significant home. It also might be a National Trust property like Charlecote Mansion or one of those lovely, thatched roof cottages in the Cotswolds area. Places such as Chipping Campden, Broad Campden, Broadway, Aston Magna and Blockley have some great examples of these picturesque, cosy cottages where Cotswolds limestone is combined with thatched roofs and complimented with colourful gardens and I think those places are priceless really.\n",
    "\n",
    "After the discussion during the lab session and the advice that such outliers matter, I decided not to drop this column (house_type_O) because these are real prices and not type errors so the need to be in the model as well. Well, just in case I did try to train the models without it but the results were not any better so in the end I left it in.\n"
   ]
  },
  {
   "cell_type": "code",
   "execution_count": 17,
   "id": "whole-context",
   "metadata": {
    "scrolled": true
   },
   "outputs": [
    {
     "name": "stdout",
     "output_type": "stream",
     "text": [
      "0    415880\n",
      "1      2120\n",
      "Name: house_type_O, dtype: int64\n"
     ]
    }
   ],
   "source": [
    "print(data1_oneho['house_type_O'].value_counts())"
   ]
  },
  {
   "cell_type": "markdown",
   "id": "vocational-display",
   "metadata": {},
   "source": [
    "Final check - no null values and all datatypes are numerical. I can proceed to choosing models and training them. I am not splitting, because my whole training data frame consists of the random samples of all pieces of the original datafile dated up to 2016. \n",
    "Later on when I am creating a data frame for testing I will use the same function to join random samples from all the remaining pieces dated 2017 and onwards."
   ]
  },
  {
   "cell_type": "code",
   "execution_count": 19,
   "id": "every-monte",
   "metadata": {
    "scrolled": false
   },
   "outputs": [
    {
     "name": "stdout",
     "output_type": "stream",
     "text": [
      "<class 'pandas.core.frame.DataFrame'>\n",
      "Int64Index: 418000 entries, 0 to 5499\n",
      "Data columns (total 11 columns):\n",
      " #   Column        Non-Null Count   Dtype\n",
      "---  ------        --------------   -----\n",
      " 0   price         418000 non-null  int64\n",
      " 1   lease_type_F  418000 non-null  uint8\n",
      " 2   lease_type_L  418000 non-null  uint8\n",
      " 3   lease_type_U  418000 non-null  uint8\n",
      " 4   house_type_D  418000 non-null  uint8\n",
      " 5   house_type_F  418000 non-null  uint8\n",
      " 6   house_type_O  418000 non-null  uint8\n",
      " 7   house_type_S  418000 non-null  uint8\n",
      " 8   house_type_T  418000 non-null  uint8\n",
      " 9   city_0        418000 non-null  uint8\n",
      " 10  city_1        418000 non-null  uint8\n",
      "dtypes: int64(1), uint8(10)\n",
      "memory usage: 10.4 MB\n"
     ]
    }
   ],
   "source": [
    "data1_oneho.info()"
   ]
  },
  {
   "cell_type": "markdown",
   "id": "amino-issue",
   "metadata": {},
   "source": [
    "I will not need to scale the data because all the features are either 0s or 1s, only the lables are large numbers but they do not need to be scaled as far as I understood. Nevertheless I experimented with the StandardScaler() just to see how it workds, I am leaving the code here:\n",
    "\n",
    "from sklearn.preprocessing import StandardScaler\n",
    "\n",
    "scaler = StandardScaler()\n",
    "data1_oneho_scaled = scaler.fit_transform(data1_oneho)\n",
    "\n",
    "dfr = pd.DataFrame(data1_oneho_scaled)"
   ]
  },
  {
   "cell_type": "markdown",
   "id": "structured-pregnancy",
   "metadata": {},
   "source": [
    "# Split data into labels and features or X and y."
   ]
  },
  {
   "cell_type": "markdown",
   "id": "public-douglas",
   "metadata": {},
   "source": [
    "By using dfr I mean 'dataframe ready'."
   ]
  },
  {
   "cell_type": "code",
   "execution_count": 20,
   "id": "hollywood-diary",
   "metadata": {},
   "outputs": [],
   "source": [
    "dfr = data1_oneho.copy()\n",
    "dfr_labels = dfr[\"price\"].copy()\n",
    "dfr.drop(\"price\",axis=1,inplace=True)"
   ]
  },
  {
   "cell_type": "markdown",
   "id": "continental-prison",
   "metadata": {},
   "source": [
    "I also tried scaling the data but it worsened the results hence I am leaving the code as comment."
   ]
  },
  {
   "cell_type": "markdown",
   "id": "killing-operation",
   "metadata": {},
   "source": [
    "## Our ML checklist\n",
    "\n",
    "<ol>\n",
    "    <li> Frame the problem </li>\n",
    "    <li> Get the data </li>\n",
    "    <li> Explore the data </li>\n",
    "    <li> Prepare the data </li>\n",
    "    <li> <b>Explore Models</b> </li>\n",
    "    <li> Fine-tune models </li>\n",
    "    <li> Present solution </li>\n",
    "    <li> Launch/maintain </li>\n",
    "</ol>"
   ]
  },
  {
   "cell_type": "markdown",
   "id": "charming-niger",
   "metadata": {},
   "source": [
    "# Linear regression model attempt"
   ]
  },
  {
   "cell_type": "markdown",
   "id": "capital-carpet",
   "metadata": {},
   "source": [
    "First I am calling the model and fitting the prepared dataframe and the labels (labels is the 'price column that should be predicted later on during testing)."
   ]
  },
  {
   "cell_type": "code",
   "execution_count": 21,
   "id": "specified-growing",
   "metadata": {},
   "outputs": [
    {
     "data": {
      "text/plain": [
       "LinearRegression()"
      ]
     },
     "execution_count": 21,
     "metadata": {},
     "output_type": "execute_result"
    }
   ],
   "source": [
    "from sklearn.linear_model import LinearRegression\n",
    "lin_reg = LinearRegression()\n",
    "lin_reg.fit(dfr, dfr_labels)"
   ]
  },
  {
   "cell_type": "markdown",
   "id": "recognized-hazard",
   "metadata": {},
   "source": [
    "Looking at a snippet of 19 predictions compared with 19 actual corresponding labels (house prices):"
   ]
  },
  {
   "cell_type": "code",
   "execution_count": 22,
   "id": "uniform-antibody",
   "metadata": {},
   "outputs": [
    {
     "name": "stdout",
     "output_type": "stream",
     "text": [
      "Predictions: [252898. 147992. 124576. 124576. 252898. 252898. 146249. 404390. 147992.\n",
      " 252898. 124576. 124576. 406134. 147992. 252898. 252898. 363760.  83946.\n",
      " 124576.]\n",
      "Labels: [89995, 46000, 27500, 25000, 142000, 102000, 29000, 147000, 59245, 77000, 37000, 41500, 80000, 48000, 63000, 78000, 160000, 20000, 41250]\n"
     ]
    }
   ],
   "source": [
    "some_data = dfr.iloc[:19]\n",
    "some_labels = dfr_labels.iloc[:19]\n",
    "some_data_prepared = some_data\n",
    "some_predictions = lin_reg.predict(some_data_prepared).round()\n",
    "\n",
    "print(\"Predictions:\", some_predictions)\n",
    "print(\"Labels:\", list(some_labels))"
   ]
  },
  {
   "cell_type": "markdown",
   "id": "noted-southeast",
   "metadata": {},
   "source": [
    "Root mean square error calculation for the Linear regression model"
   ]
  },
  {
   "cell_type": "code",
   "execution_count": 23,
   "id": "special-powell",
   "metadata": {},
   "outputs": [
    {
     "data": {
      "text/plain": [
       "504424.0"
      ]
     },
     "execution_count": 23,
     "metadata": {},
     "output_type": "execute_result"
    }
   ],
   "source": [
    "from sklearn.metrics import mean_squared_error\n",
    "\n",
    "dfr_pred = lin_reg.predict(dfr)\n",
    "lin_mse = mean_squared_error(dfr_labels, dfr_pred)\n",
    "lin_rmse = np.sqrt(lin_mse)\n",
    "np.round(lin_rmse)"
   ]
  },
  {
   "cell_type": "code",
   "execution_count": 24,
   "id": "clear-programming",
   "metadata": {},
   "outputs": [
    {
     "data": {
      "text/plain": [
       "132000.0"
      ]
     },
     "execution_count": 24,
     "metadata": {},
     "output_type": "execute_result"
    }
   ],
   "source": [
    "dfr_labels.median()"
   ]
  },
  {
   "cell_type": "markdown",
   "id": "parallel-highway",
   "metadata": {},
   "source": [
    "RMSE is 504424 with the median house price being 127000. This is far from great accuracy unfortunately, but I could not improve it no matter what I tried. The lowest RMSE I achieved was around 53000 but it only happened when I was using just the piece from 1995 provided on Moodle with the practical and I could not go with that because I needed homogenous data from all years. "
   ]
  },
  {
   "cell_type": "markdown",
   "id": "charged-integral",
   "metadata": {},
   "source": [
    "<b>Cross-validation to try to improve predictions.</b>\n",
    "\n",
    "In my understanding CV splits the data into K folds, then trains the model using 9 folds as training data and 1 fold as testing data,\n",
    "doing K iterations until each fold has been used as test data. I tried different K values and finally decided to go with 150 folds."
   ]
  },
  {
   "cell_type": "code",
   "execution_count": 25,
   "id": "academic-office",
   "metadata": {},
   "outputs": [],
   "source": [
    "def display_scores(scores):\n",
    "    print(\"Scores:\", np.round(scores))\n",
    "    print(\"Mean:\", np.round(scores.mean()))\n",
    "    print(\"Standard deviation:\", np.round(scores.std()))"
   ]
  },
  {
   "cell_type": "code",
   "execution_count": 26,
   "id": "republican-freedom",
   "metadata": {
    "scrolled": true
   },
   "outputs": [
    {
     "name": "stdout",
     "output_type": "stream",
     "text": [
      "Scores: [ 136680.  129691.  127570.  158391.  130589.  144025.  129863.  151193.\n",
      "  125352.  130042.  135178.  128173.  124008.  126887.  141357.  135128.\n",
      "  134898.  122665.  124601.  121710.  121906.  125082.  127114.  126262.\n",
      "  130217.  189660.  127134.  123171.  125841.  149713.  119392.  116094.\n",
      "  119228.  129927.  113090.  129311.  140564.  120223.  127311.  124119.\n",
      "  118219.  124300.  125233.  146208.  170589.  116019.  140798.  118334.\n",
      "  129468.  105377.  105857.  113951.  151397.  125555.  116418.  106792.\n",
      "  117657.  126498.  111890.  106505.  114717.  119768.  109420.  114731.\n",
      "  130750.  114006.  124840.  132194.  135129.  129977.  151730.  139143.\n",
      "  142949.  116027.  133312.  140028.  130130.  130750.  128035.  124420.\n",
      "  133573.  173966.  143805.  132786.  151887.  173173.  176293.  153651.\n",
      "  147598.  134900.  192257.  213635.  149549.  158049.  170188.  147615.\n",
      "  186878.  197130.  176845.  192133.  207873.  245809.  204225.  196142.\n",
      "  300643.  174209.  169319.  270465.  203234.  186460.  247567.  191361.\n",
      "  232129.  196587.  205431.  214768.  228999.  199016.  248644.  197705.\n",
      "  238970.  279209.  248250.  250939. 1574443.  250184.  233151. 1847688.\n",
      "  333715.  289856.  265647. 2016421.  997261.  362628.  367114.  276005.\n",
      "  315513. 1309440.  406797. 1214222. 2812041.  596080.  456095. 1294090.\n",
      "  379703.  729955. 2506592.  306185.  437773. 1613986.]\n",
      "Mean: 280793.0\n",
      "Standard deviation: 419600.0\n",
      "Wall time: 31.2 s\n"
     ]
    }
   ],
   "source": [
    "%%time\n",
    "    \n",
    "lin_scores = cross_val_score(lin_reg, dfr, dfr_labels,\n",
    "                             scoring=\"neg_mean_squared_error\", cv=150)\n",
    "lin_rmse_scores = np.sqrt(-lin_scores)\n",
    "display_scores(lin_rmse_scores)"
   ]
  },
  {
   "cell_type": "markdown",
   "id": "brutal-midwest",
   "metadata": {},
   "source": [
    "A RMSE mean of 280793 looks much better, although it is still far off the mark. As in the lectures I will train some more models and compare the results."
   ]
  },
  {
   "cell_type": "markdown",
   "id": "dutch-creativity",
   "metadata": {},
   "source": [
    "# Decision Tree Regressor...second model attempt"
   ]
  },
  {
   "cell_type": "markdown",
   "id": "future-delay",
   "metadata": {},
   "source": [
    "Again, calling the next model and fitting the data features and labels, then using the same code as above to have the RMSE calculated."
   ]
  },
  {
   "cell_type": "code",
   "execution_count": 55,
   "id": "certified-violation",
   "metadata": {},
   "outputs": [
    {
     "data": {
      "text/plain": [
       "DecisionTreeRegressor(random_state=379)"
      ]
     },
     "execution_count": 55,
     "metadata": {},
     "output_type": "execute_result"
    }
   ],
   "source": [
    "from sklearn.tree import DecisionTreeRegressor\n",
    "\n",
    "tree_reg = DecisionTreeRegressor(random_state=379)\n",
    "tree_reg.fit(dfr, dfr_labels)"
   ]
  },
  {
   "cell_type": "code",
   "execution_count": 56,
   "id": "inner-portable",
   "metadata": {
    "scrolled": true
   },
   "outputs": [
    {
     "data": {
      "text/plain": [
       "497417.7594100365"
      ]
     },
     "execution_count": 56,
     "metadata": {},
     "output_type": "execute_result"
    }
   ],
   "source": [
    "dfr_predi = tree_reg.predict(dfr)\n",
    "tree_mse = mean_squared_error(dfr_labels, dfr_predi)\n",
    "tree_rmse = np.sqrt(tree_mse)\n",
    "tree_rmse"
   ]
  },
  {
   "cell_type": "markdown",
   "id": "retained-quilt",
   "metadata": {},
   "source": [
    "Again the results are not great. I will try and see if cross-validation improves that."
   ]
  },
  {
   "cell_type": "markdown",
   "id": "harmful-apartment",
   "metadata": {},
   "source": [
    "# Cross-validation on Decision Tree Regressor"
   ]
  },
  {
   "cell_type": "code",
   "execution_count": 31,
   "id": "cooperative-charm",
   "metadata": {},
   "outputs": [
    {
     "name": "stdout",
     "output_type": "stream",
     "text": [
      "Wall time: 40.9 s\n"
     ]
    }
   ],
   "source": [
    "%%time\n",
    "from sklearn.model_selection import cross_val_score\n",
    "\n",
    "K = 150\n",
    "\n",
    "scores = cross_val_score(tree_reg, dfr, dfr_labels,\n",
    "                         scoring=\"neg_mean_squared_error\", cv=K)\n",
    "tree_rmse_scores = np.sqrt(-scores)"
   ]
  },
  {
   "cell_type": "markdown",
   "id": "random-strategy",
   "metadata": {},
   "source": [
    "I am using the function provided in Lecture 5 to display the scores for each iteration, plus the mean score and standard deviation. I repeated this process many times increasing the folds each time and observing slightly lower RMSE every time. I stopped at K=150."
   ]
  },
  {
   "cell_type": "code",
   "execution_count": 32,
   "id": "exact-photographer",
   "metadata": {
    "scrolled": true
   },
   "outputs": [
    {
     "name": "stdout",
     "output_type": "stream",
     "text": [
      "Scores: [ 134915.  128306.  128908.  154731.  129683.  141091.  129009.  145257.\n",
      "  124133.  130206.  134081.  128614.  126376.  127710.  136979.  131759.\n",
      "  134341.  122674.  124008.  121385.  121246.  125748.  125475.  124456.\n",
      "  126795.  183550.  126247.  123514.  122406.  148103.  118740.  115367.\n",
      "  117282.  128517.  112048.  126747.  136572.  118246.  125892.  122815.\n",
      "  117171.  124699.  123358.  143944.  164955.  113938.  140035.  116549.\n",
      "  126105.  102873.  102406.  111197.  149840.  124441.  113890.  106229.\n",
      "  114710.  124309.  112278.  104991.  113780.  117977.  108139.  113786.\n",
      "  128229.  112779.  123417.  130153.  133951.  127907.  148001.  133371.\n",
      "  137924.  113764.  132554.  138641.  129471.  127972.  126199.  120658.\n",
      "  133002.  171886.  142286.  129710.  150445.  167852.  181996.  151099.\n",
      "  145504.  132556.  188153.  212398.  146717.  157494.  168612.  144262.\n",
      "  186517.  194984.  175326.  191702.  203909.  244963.  205039.  191736.\n",
      "  300509.  171172.  168045.  270590.  202240.  185954.  243450.  191529.\n",
      "  233277.  195614.  203866.  212644.  234032.  197151.  248802.  199296.\n",
      "  236552.  280312.  248272.  248008. 1522630.  251041.  235643. 1848790.\n",
      "  334842.  289439.  265524. 1943713. 1033816.  350778.  374752.  283557.\n",
      "  332180. 1330481.  446088. 1164727. 2754763.  585638.  556135. 1286761.\n",
      "  391749.  762571. 2495647.  361161.  431116. 1621722.]\n",
      "Mean: 279902.0\n",
      "Standard deviation: 415158.0\n"
     ]
    }
   ],
   "source": [
    "display_scores(tree_rmse_scores)"
   ]
  },
  {
   "cell_type": "markdown",
   "id": "distinct-spain",
   "metadata": {},
   "source": [
    "A RMSE mean of 279902 is slightly better than the first used model - Linear Regression (least squares) with the same number of CV folds K = 150."
   ]
  },
  {
   "cell_type": "markdown",
   "id": "taken-hobby",
   "metadata": {},
   "source": [
    "# Random Forest Regressor  3rd model attempt"
   ]
  },
  {
   "cell_type": "markdown",
   "id": "printable-negotiation",
   "metadata": {},
   "source": [
    "As in the lectures I will time this operation because it is computationally intensive and I am curious to see how my laptop performs compared to the lecturer's machine.\n",
    "I am calling the model, specifying the number of estimators to 100 as in the lectures, also chosing a random number which I like. Then I am fitting the data and lables as on previous models. Finally I am adding the already used code for RMSE calculation."
   ]
  },
  {
   "cell_type": "code",
   "execution_count": 33,
   "id": "ruled-grounds",
   "metadata": {
    "scrolled": true
   },
   "outputs": [
    {
     "name": "stdout",
     "output_type": "stream",
     "text": [
      "Wall time: 21.8 s\n"
     ]
    },
    {
     "data": {
      "text/plain": [
       "497434.0"
      ]
     },
     "execution_count": 33,
     "metadata": {},
     "output_type": "execute_result"
    }
   ],
   "source": [
    "%%time\n",
    "from sklearn.ensemble import RandomForestRegressor\n",
    "\n",
    "forest_reg = RandomForestRegressor(n_estimators=100, random_state=379)\n",
    "forest_reg.fit(dfr, dfr_labels)\n",
    "\n",
    "dfr_predi = forest_reg.predict(dfr)\n",
    "forest_mse = mean_squared_error(dfr_labels, dfr_predi)\n",
    "forest_rmse = np.sqrt(forest_mse)\n",
    "forest_rmse.round()"
   ]
  },
  {
   "cell_type": "markdown",
   "id": "pursuant-photograph",
   "metadata": {},
   "source": [
    "# Same model, but run through cross-validation"
   ]
  },
  {
   "cell_type": "markdown",
   "id": "veterinary-wheat",
   "metadata": {},
   "source": [
    "150 folds was taking too long with this mdoel hence I did it with 35. The result 52448 is slightly worse than the previous model."
   ]
  },
  {
   "cell_type": "code",
   "execution_count": 34,
   "id": "continued-causing",
   "metadata": {
    "scrolled": false
   },
   "outputs": [
    {
     "name": "stdout",
     "output_type": "stream",
     "text": [
      "Scores: [ 139584.  137466.  132115.  134648.  123915.  143804.  131838.  121079.\n",
      "  127154.  122594.  140336.  112677.  125506.  112878.  115502.  124545.\n",
      "  131053.  135842.  124377.  152094.  159317.  179139.  177585.  207854.\n",
      "  230971.  208031.  209304.  220736.  259092. 1165754. 1019159.  498897.\n",
      " 1603268.  816730. 1470013.]\n",
      "Mean: 314710.0\n",
      "Standard deviation: 389294.0\n",
      "Wall time: 10min 36s\n"
     ]
    }
   ],
   "source": [
    "%%time\n",
    "forest_scores = cross_val_score(forest_reg, dfr, dfr_labels,\n",
    "                                scoring=\"neg_mean_squared_error\", cv=35)\n",
    "forest_rmse_scores = np.sqrt(-forest_scores)\n",
    "display_scores(forest_rmse_scores)"
   ]
  },
  {
   "cell_type": "markdown",
   "id": "unlike-judges",
   "metadata": {},
   "source": [
    "I did another attempt to see if the mean will be similar with less folds cv=5, but the RMSE was a lot higher around 375000 hence I will keep this CV even though it took more than 9 minutes."
   ]
  },
  {
   "cell_type": "markdown",
   "id": "boxed-incentive",
   "metadata": {},
   "source": [
    "I attempted several more complex models such as ElasticNet, ElasticNetCV, Stochastic Gradient Descent, and Mini Batch Gradient Descent but their predictions were too far off the mark, some being negative numbers and I could not improve their performance anyhow, hence I am not including this part of my attempts in this notebook. "
   ]
  },
  {
   "cell_type": "markdown",
   "id": "automatic-integrity",
   "metadata": {},
   "source": [
    "So far, the lowest RMSE of 219597 came from the second model, Decision Tree Regressor, after 150 fold cross validation. I will try to fine-tune it and see if it gets any better."
   ]
  },
  {
   "cell_type": "markdown",
   "id": "incoming-aquarium",
   "metadata": {},
   "source": [
    "# Fine-tune models\n",
    "\n",
    "<ol>\n",
    "    <li> Frame the problem </li>\n",
    "    <li> Get the data </li>\n",
    "    <li> Explore the data </li>\n",
    "    <li> Prepare the data </li>\n",
    "    <li> Explore Models </li>\n",
    "    <li> <b>Fine-tune models</b> </li>\n",
    "    <li> Present solution </li>\n",
    "    <li> Launch/maintain </li>\n",
    "</ol>"
   ]
  },
  {
   "cell_type": "markdown",
   "id": "declared-niger",
   "metadata": {},
   "source": [
    "# Fine tuning on Decison Tree Regressor"
   ]
  },
  {
   "cell_type": "markdown",
   "id": "otherwise-colors",
   "metadata": {},
   "source": [
    "Once I have chosen a relatively well performing model I am moving to fine-tuning using 'GridSearchCV'. This is similar to cross validation, but it iteratively trains the model with different combinations of its parameters.\n",
    "My best model so far is the cross-validated Decission Tree Regressor.\n",
    "In the lectures another model was fine-tuned hence I had to read some of the SK Learn documentation and find out what the parameters of my best model are. Once I did that, I chose some parameters to use for fine tuning and changed the code from lectures as follows."
   ]
  },
  {
   "cell_type": "code",
   "execution_count": 36,
   "id": "monetary-president",
   "metadata": {},
   "outputs": [
    {
     "name": "stdout",
     "output_type": "stream",
     "text": [
      "Wall time: 9.73 s\n"
     ]
    },
    {
     "data": {
      "text/plain": [
       "GridSearchCV(cv=5, estimator=DecisionTreeRegressor(random_state=379),\n",
       "             param_grid=[{'criterion': ['friedman_mse'],\n",
       "                          'max_features': [4, 6, 8, 10],\n",
       "                          'min_samples_split': [15]},\n",
       "                         {'criterion': ['mse'], 'max_features': [4, 6, 8, 10],\n",
       "                          'min_samples_split': [5]}],\n",
       "             return_train_score=True, scoring='neg_mean_squared_error')"
      ]
     },
     "execution_count": 36,
     "metadata": {},
     "output_type": "execute_result"
    }
   ],
   "source": [
    "%%time\n",
    "from sklearn.model_selection import GridSearchCV\n",
    "\n",
    "param_grid = [\n",
    "    \n",
    "    { 'criterion': [\"friedman_mse\"] , 'min_samples_split': [15], 'max_features': [4, 6, 8, 10]},\n",
    "    \n",
    "    {'criterion': [\"mse\"], 'min_samples_split': [5], 'max_features': [4,6,8,10]},\n",
    "  ]\n",
    "\n",
    "tree_reg = DecisionTreeRegressor(random_state=379)\n",
    "\n",
    "grid_search = GridSearchCV(tree_reg, param_grid, cv=5,\n",
    "                           scoring='neg_mean_squared_error',\n",
    "                           return_train_score=True)\n",
    "grid_search.fit(dfr, dfr_labels)"
   ]
  },
  {
   "cell_type": "code",
   "execution_count": 37,
   "id": "complex-valuable",
   "metadata": {},
   "outputs": [
    {
     "data": {
      "text/plain": [
       "DecisionTreeRegressor(criterion='friedman_mse', max_features=6,\n",
       "                      min_samples_split=15, random_state=379)"
      ]
     },
     "execution_count": 37,
     "metadata": {},
     "output_type": "execute_result"
    }
   ],
   "source": [
    "grid_search.best_estimator_"
   ]
  },
  {
   "cell_type": "code",
   "execution_count": 38,
   "id": "identical-stake",
   "metadata": {},
   "outputs": [
    {
     "name": "stdout",
     "output_type": "stream",
     "text": [
      "513963.0 {'criterion': 'friedman_mse', 'max_features': 4, 'min_samples_split': 15}\n",
      "513784.0 {'criterion': 'friedman_mse', 'max_features': 6, 'min_samples_split': 15}\n",
      "513972.0 {'criterion': 'friedman_mse', 'max_features': 8, 'min_samples_split': 15}\n",
      "513974.0 {'criterion': 'friedman_mse', 'max_features': 10, 'min_samples_split': 15}\n",
      "513963.0 {'criterion': 'mse', 'max_features': 4, 'min_samples_split': 5}\n",
      "513784.0 {'criterion': 'mse', 'max_features': 6, 'min_samples_split': 5}\n",
      "514050.0 {'criterion': 'mse', 'max_features': 8, 'min_samples_split': 5}\n",
      "514778.0 {'criterion': 'mse', 'max_features': 10, 'min_samples_split': 5}\n"
     ]
    }
   ],
   "source": [
    "cvres = grid_search.cv_results_\n",
    "for mean_score, params in zip(cvres[\"mean_test_score\"], cvres[\"params\"]):\n",
    "    print(np.round(np.sqrt(-mean_score)), params)"
   ]
  },
  {
   "cell_type": "markdown",
   "id": "prospective-reading",
   "metadata": {},
   "source": [
    "The scores are actually much worse than before hence I will continue without fine-tuning.\n",
    "Just in case I decided to use the code from the lectures and see how fine-tuning will improve the Random Tree Regressor RMSE results."
   ]
  },
  {
   "cell_type": "markdown",
   "id": "animal-passing",
   "metadata": {},
   "source": [
    "# Fine tuning on Random Tree Regressor"
   ]
  },
  {
   "cell_type": "markdown",
   "id": "median-farming",
   "metadata": {},
   "source": [
    "I left the numbers of estimators the same as in the lectures but changed the features to 4,6,8,10 because I have 10 features in my dataset."
   ]
  },
  {
   "cell_type": "code",
   "execution_count": 39,
   "id": "developing-pacific",
   "metadata": {},
   "outputs": [
    {
     "name": "stdout",
     "output_type": "stream",
     "text": [
      "Wall time: 2min 28s\n"
     ]
    },
    {
     "data": {
      "text/plain": [
       "GridSearchCV(cv=5, estimator=RandomForestRegressor(random_state=379),\n",
       "             param_grid=[{'max_features': [4, 6, 8, 10],\n",
       "                          'n_estimators': [3, 10, 30]},\n",
       "                         {'bootstrap': [False], 'max_features': [2, 3, 4],\n",
       "                          'n_estimators': [3, 10]}],\n",
       "             return_train_score=True, scoring='neg_mean_squared_error')"
      ]
     },
     "execution_count": 39,
     "metadata": {},
     "output_type": "execute_result"
    }
   ],
   "source": [
    "%%time\n",
    "from sklearn.model_selection import GridSearchCV\n",
    "\n",
    "param_grid = [\n",
    "    # try 12 (3×4) combinations of hyperparameters\n",
    "    {'n_estimators': [3, 10, 30], 'max_features': [4, 6, 8, 10]},\n",
    "    # then try 6 (2×3) combinations with bootstrap set as False\n",
    "    {'bootstrap': [False], 'n_estimators': [3, 10], 'max_features': [2, 3, 4]},\n",
    "  ]\n",
    "\n",
    "forest_reg = RandomForestRegressor(random_state=379)\n",
    "# train across 5 folds, that's a total of (12+6)*5=90 rounds of training \n",
    "grid_search = GridSearchCV(forest_reg, param_grid, cv=5,\n",
    "                           scoring='neg_mean_squared_error',\n",
    "                           return_train_score=True)\n",
    "grid_search.fit(dfr, dfr_labels)"
   ]
  },
  {
   "cell_type": "code",
   "execution_count": 40,
   "id": "finished-yacht",
   "metadata": {},
   "outputs": [
    {
     "data": {
      "text/plain": [
       "RandomForestRegressor(bootstrap=False, max_features=2, n_estimators=10,\n",
       "                      random_state=379)"
      ]
     },
     "execution_count": 40,
     "metadata": {},
     "output_type": "execute_result"
    }
   ],
   "source": [
    "grid_search.best_estimator_"
   ]
  },
  {
   "cell_type": "markdown",
   "id": "arabic-armstrong",
   "metadata": {},
   "source": [
    "The best one uses 2 features and 10 estimators. I left the number of folds to cv=5, because any more than than took too long to compute. Below we can see the scores for all variations and analyse/compare them, althought we already know which is the best one."
   ]
  },
  {
   "cell_type": "code",
   "execution_count": 41,
   "id": "mobile-output",
   "metadata": {},
   "outputs": [
    {
     "name": "stdout",
     "output_type": "stream",
     "text": [
      "524756.0 {'max_features': 4, 'n_estimators': 3}\n",
      "518915.0 {'max_features': 4, 'n_estimators': 10}\n",
      "514516.0 {'max_features': 4, 'n_estimators': 30}\n",
      "524246.0 {'max_features': 6, 'n_estimators': 3}\n",
      "518944.0 {'max_features': 6, 'n_estimators': 10}\n",
      "514814.0 {'max_features': 6, 'n_estimators': 30}\n",
      "524507.0 {'max_features': 8, 'n_estimators': 3}\n",
      "518858.0 {'max_features': 8, 'n_estimators': 10}\n",
      "515135.0 {'max_features': 8, 'n_estimators': 30}\n",
      "524771.0 {'max_features': 10, 'n_estimators': 3}\n",
      "519121.0 {'max_features': 10, 'n_estimators': 10}\n",
      "515314.0 {'max_features': 10, 'n_estimators': 30}\n",
      "512927.0 {'bootstrap': False, 'max_features': 2, 'n_estimators': 3}\n",
      "512884.0 {'bootstrap': False, 'max_features': 2, 'n_estimators': 10}\n",
      "513514.0 {'bootstrap': False, 'max_features': 3, 'n_estimators': 3}\n",
      "514021.0 {'bootstrap': False, 'max_features': 3, 'n_estimators': 10}\n",
      "513013.0 {'bootstrap': False, 'max_features': 4, 'n_estimators': 3}\n",
      "513704.0 {'bootstrap': False, 'max_features': 4, 'n_estimators': 10}\n"
     ]
    }
   ],
   "source": [
    "cvres = grid_search.cv_results_\n",
    "for mean_score, params in zip(cvres[\"mean_test_score\"], cvres[\"params\"]):\n",
    "    print(np.round(np.sqrt(-mean_score)), params)"
   ]
  },
  {
   "cell_type": "markdown",
   "id": "tender-observer",
   "metadata": {},
   "source": [
    "All in all the fine-tuning did not yeild any significat improvement in my case, but I did try it nonetheless and now I know how to search models in the SK Learn documentation, read about their parameters and experiment with different fine-tunning combinations.\n",
    "I will try Stochastic Gradient Descent Regressor before I continue with trying the best model so far on the test data."
   ]
  },
  {
   "cell_type": "markdown",
   "id": "excess-unknown",
   "metadata": {},
   "source": [
    "# SGDRegressor attempt"
   ]
  },
  {
   "cell_type": "markdown",
   "id": "expressed-lighting",
   "metadata": {},
   "source": [
    "I used the SK Learn documentation and tried to train and predict with this model but the RMSE is a massive number so I presume I did something wrong."
   ]
  },
  {
   "cell_type": "code",
   "execution_count": 89,
   "id": "weird-signature",
   "metadata": {
    "scrolled": true
   },
   "outputs": [
    {
     "data": {
      "text/plain": [
       "Pipeline(steps=[('standardscaler', StandardScaler()),\n",
       "                ('sgdregressor', SGDRegressor(max_iter=500))])"
      ]
     },
     "execution_count": 89,
     "metadata": {},
     "output_type": "execute_result"
    }
   ],
   "source": [
    "import numpy as np\n",
    "from sklearn.linear_model import SGDRegressor\n",
    "from sklearn.pipeline import make_pipeline\n",
    "from sklearn.preprocessing import StandardScaler\n",
    "n_samples, n_features = 10, 5\n",
    "rng = np.random.RandomState(0)\n",
    "y = dfr_labels\n",
    "X = dfr\n",
    "# Always scale the input. The most convenient way is to use a pipeline.\n",
    "reg = make_pipeline(StandardScaler(),\n",
    "                    SGDRegressor(max_iter=500, tol=1e-3))\n",
    "reg.fit(X, y)"
   ]
  },
  {
   "cell_type": "code",
   "execution_count": 90,
   "id": "eight-silicon",
   "metadata": {},
   "outputs": [
    {
     "data": {
      "text/plain": [
       "array([-5866570.51421572, -8685273.21999322, -8685273.21999322, ...,\n",
       "        6632441.28911521,  3663051.10537929, -8685273.21999322])"
      ]
     },
     "execution_count": 90,
     "metadata": {},
     "output_type": "execute_result"
    }
   ],
   "source": [
    "reg.predict(X)"
   ]
  },
  {
   "cell_type": "code",
   "execution_count": 91,
   "id": "split-value",
   "metadata": {
    "scrolled": true
   },
   "outputs": [
    {
     "data": {
      "text/plain": [
       "5530750622.0"
      ]
     },
     "execution_count": 91,
     "metadata": {},
     "output_type": "execute_result"
    }
   ],
   "source": [
    "from sklearn.metrics import mean_squared_error\n",
    "\n",
    "dfr_pred = reg.predict(X)\n",
    "lin_mse = mean_squared_error(dfr_labels, dfr_pred)\n",
    "lin_rmse = np.sqrt(lin_mse)\n",
    "np.round(lin_rmse)"
   ]
  },
  {
   "cell_type": "markdown",
   "id": "enormous-correspondence",
   "metadata": {},
   "source": [
    "# Run the best model on the test set, in my case a data frame made of concatenated subsamples from the original big data file, but dated 2017 or thereafter"
   ]
  },
  {
   "cell_type": "markdown",
   "id": "lasting-money",
   "metadata": {},
   "source": [
    "First I am creating a test data frame as in the beginning I use my sampling function to take 5500 samples from each piece dated on or after 2017."
   ]
  },
  {
   "cell_type": "code",
   "execution_count": 43,
   "id": "given-holmes",
   "metadata": {},
   "outputs": [
    {
     "name": "stdout",
     "output_type": "stream",
     "text": [
      "Wall time: 14.6 s\n"
     ]
    }
   ],
   "source": [
    "%%time\n",
    "files = glob.glob('Full data file\\Test/*.csv')\n",
    "test_data_l = []\n",
    "\n",
    "\n",
    "for f in files: \n",
    "    n = sum(1 for line in open(f)) - 1\n",
    "    s = 5500\n",
    "    skip = sorted(random.sample(range(1,n+1),n-s))\n",
    "    df = pd.read_csv(f, skiprows=skip,  header=0, names=['some1','price','date','pk','house_type','some2','lease_type','str_num','hou_name','street','town','city','city1','county','g','gg'])\n",
    "    test_data_l.append(df)\n",
    "#    if counter>1:\n",
    "#        data1_l.append(df)\n",
    "#    else:\n",
    "#        data1 = df\n",
    "\n",
    "test_data = pd.concat(test_data_l)"
   ]
  },
  {
   "cell_type": "markdown",
   "id": "legendary-douglas",
   "metadata": {},
   "source": [
    "Then I am applying exactly the same preparatory actions as I did for the training data. I tried to save those steps in a pipeline but I could not manage hence I will have to do them manually."
   ]
  },
  {
   "cell_type": "code",
   "execution_count": 44,
   "id": "funny-stamp",
   "metadata": {
    "scrolled": true
   },
   "outputs": [
    {
     "data": {
      "text/html": [
       "<div>\n",
       "<style scoped>\n",
       "    .dataframe tbody tr th:only-of-type {\n",
       "        vertical-align: middle;\n",
       "    }\n",
       "\n",
       "    .dataframe tbody tr th {\n",
       "        vertical-align: top;\n",
       "    }\n",
       "\n",
       "    .dataframe thead th {\n",
       "        text-align: right;\n",
       "    }\n",
       "</style>\n",
       "<table border=\"1\" class=\"dataframe\">\n",
       "  <thead>\n",
       "    <tr style=\"text-align: right;\">\n",
       "      <th></th>\n",
       "      <th>price</th>\n",
       "      <th>date</th>\n",
       "      <th>house_type</th>\n",
       "      <th>lease_type</th>\n",
       "      <th>city</th>\n",
       "    </tr>\n",
       "  </thead>\n",
       "  <tbody>\n",
       "    <tr>\n",
       "      <th>0</th>\n",
       "      <td>257500</td>\n",
       "      <td>2017-07-07 00:00</td>\n",
       "      <td>S</td>\n",
       "      <td>F</td>\n",
       "      <td>CARDIFF</td>\n",
       "    </tr>\n",
       "    <tr>\n",
       "      <th>1</th>\n",
       "      <td>245000</td>\n",
       "      <td>2017-06-30 00:00</td>\n",
       "      <td>S</td>\n",
       "      <td>F</td>\n",
       "      <td>WREXHAM</td>\n",
       "    </tr>\n",
       "    <tr>\n",
       "      <th>2</th>\n",
       "      <td>75000</td>\n",
       "      <td>2017-06-16 00:00</td>\n",
       "      <td>T</td>\n",
       "      <td>F</td>\n",
       "      <td>MERTHYR TYDFIL</td>\n",
       "    </tr>\n",
       "    <tr>\n",
       "      <th>3</th>\n",
       "      <td>259950</td>\n",
       "      <td>2017-05-26 00:00</td>\n",
       "      <td>D</td>\n",
       "      <td>F</td>\n",
       "      <td>PONTYPRIDD</td>\n",
       "    </tr>\n",
       "    <tr>\n",
       "      <th>4</th>\n",
       "      <td>685000</td>\n",
       "      <td>2017-10-10 00:00</td>\n",
       "      <td>S</td>\n",
       "      <td>F</td>\n",
       "      <td>LONDON</td>\n",
       "    </tr>\n",
       "  </tbody>\n",
       "</table>\n",
       "</div>"
      ],
      "text/plain": [
       "    price              date house_type lease_type            city\n",
       "0  257500  2017-07-07 00:00          S          F         CARDIFF\n",
       "1  245000  2017-06-30 00:00          S          F         WREXHAM\n",
       "2   75000  2017-06-16 00:00          T          F  MERTHYR TYDFIL\n",
       "3  259950  2017-05-26 00:00          D          F      PONTYPRIDD\n",
       "4  685000  2017-10-10 00:00          S          F          LONDON"
      ]
     },
     "execution_count": 44,
     "metadata": {},
     "output_type": "execute_result"
    }
   ],
   "source": [
    "test_data.drop(['some1', 'pk', 'some2', 'str_num', 'hou_name', 'street', 'town', 'city1', 'county', 'g', 'gg'], axis=1, inplace=True)\n",
    "test_data.head(5)"
   ]
  },
  {
   "cell_type": "code",
   "execution_count": 45,
   "id": "second-sellers",
   "metadata": {
    "scrolled": true
   },
   "outputs": [
    {
     "data": {
      "text/html": [
       "<div>\n",
       "<style scoped>\n",
       "    .dataframe tbody tr th:only-of-type {\n",
       "        vertical-align: middle;\n",
       "    }\n",
       "\n",
       "    .dataframe tbody tr th {\n",
       "        vertical-align: top;\n",
       "    }\n",
       "\n",
       "    .dataframe thead th {\n",
       "        text-align: right;\n",
       "    }\n",
       "</style>\n",
       "<table border=\"1\" class=\"dataframe\">\n",
       "  <thead>\n",
       "    <tr style=\"text-align: right;\">\n",
       "      <th></th>\n",
       "      <th>price</th>\n",
       "      <th>house_type</th>\n",
       "      <th>lease_type</th>\n",
       "      <th>city</th>\n",
       "    </tr>\n",
       "  </thead>\n",
       "  <tbody>\n",
       "    <tr>\n",
       "      <th>0</th>\n",
       "      <td>257500</td>\n",
       "      <td>S</td>\n",
       "      <td>F</td>\n",
       "      <td>CARDIFF</td>\n",
       "    </tr>\n",
       "    <tr>\n",
       "      <th>1</th>\n",
       "      <td>245000</td>\n",
       "      <td>S</td>\n",
       "      <td>F</td>\n",
       "      <td>WREXHAM</td>\n",
       "    </tr>\n",
       "    <tr>\n",
       "      <th>2</th>\n",
       "      <td>75000</td>\n",
       "      <td>T</td>\n",
       "      <td>F</td>\n",
       "      <td>MERTHYR TYDFIL</td>\n",
       "    </tr>\n",
       "    <tr>\n",
       "      <th>3</th>\n",
       "      <td>259950</td>\n",
       "      <td>D</td>\n",
       "      <td>F</td>\n",
       "      <td>PONTYPRIDD</td>\n",
       "    </tr>\n",
       "    <tr>\n",
       "      <th>4</th>\n",
       "      <td>685000</td>\n",
       "      <td>S</td>\n",
       "      <td>F</td>\n",
       "      <td>LONDON</td>\n",
       "    </tr>\n",
       "  </tbody>\n",
       "</table>\n",
       "</div>"
      ],
      "text/plain": [
       "    price house_type lease_type            city\n",
       "0  257500          S          F         CARDIFF\n",
       "1  245000          S          F         WREXHAM\n",
       "2   75000          T          F  MERTHYR TYDFIL\n",
       "3  259950          D          F      PONTYPRIDD\n",
       "4  685000          S          F          LONDON"
      ]
     },
     "execution_count": 45,
     "metadata": {},
     "output_type": "execute_result"
    }
   ],
   "source": [
    "test_data.drop(['date'], axis=1, inplace=True)\n",
    "test_data.head(5)"
   ]
  },
  {
   "cell_type": "code",
   "execution_count": 46,
   "id": "different-procedure",
   "metadata": {},
   "outputs": [
    {
     "name": "stdout",
     "output_type": "stream",
     "text": [
      "<class 'pandas.core.frame.DataFrame'>\n",
      "Int64Index: 55000 entries, 0 to 5499\n",
      "Data columns (total 9 columns):\n",
      " #   Column        Non-Null Count  Dtype \n",
      "---  ------        --------------  ----- \n",
      " 0   price         55000 non-null  int64 \n",
      " 1   city          55000 non-null  object\n",
      " 2   lease_type_F  55000 non-null  uint8 \n",
      " 3   lease_type_L  55000 non-null  uint8 \n",
      " 4   house_type_D  55000 non-null  uint8 \n",
      " 5   house_type_F  55000 non-null  uint8 \n",
      " 6   house_type_O  55000 non-null  uint8 \n",
      " 7   house_type_S  55000 non-null  uint8 \n",
      " 8   house_type_T  55000 non-null  uint8 \n",
      "dtypes: int64(1), object(1), uint8(7)\n",
      "memory usage: 1.4+ MB\n"
     ]
    }
   ],
   "source": [
    "test_data_oneho = test_data.copy()\n",
    "test_data_oneho = pd.get_dummies(test_data_oneho, columns=['lease_type'], prefix = ['lease_type'])\n",
    "test_data_oneho = pd.get_dummies(test_data_oneho, columns=['house_type'], prefix = ['house_type'])\n",
    "test_data_oneho.head(5)\n",
    "test_data_oneho.info()"
   ]
  },
  {
   "cell_type": "code",
   "execution_count": 47,
   "id": "applied-gates",
   "metadata": {
    "scrolled": false
   },
   "outputs": [
    {
     "name": "stdout",
     "output_type": "stream",
     "text": [
      "0    51430\n",
      "1     3570\n",
      "Name: city, dtype: int64\n",
      "<class 'pandas.core.frame.DataFrame'>\n",
      "Int64Index: 55000 entries, 0 to 5499\n",
      "Data columns (total 9 columns):\n",
      " #   Column        Non-Null Count  Dtype \n",
      "---  ------        --------------  ----- \n",
      " 0   price         55000 non-null  int64 \n",
      " 1   city          55000 non-null  object\n",
      " 2   lease_type_F  55000 non-null  uint8 \n",
      " 3   lease_type_L  55000 non-null  uint8 \n",
      " 4   house_type_D  55000 non-null  uint8 \n",
      " 5   house_type_F  55000 non-null  uint8 \n",
      " 6   house_type_O  55000 non-null  uint8 \n",
      " 7   house_type_S  55000 non-null  uint8 \n",
      " 8   house_type_T  55000 non-null  uint8 \n",
      "dtypes: int64(1), object(1), uint8(7)\n",
      "memory usage: 1.4+ MB\n"
     ]
    }
   ],
   "source": [
    "test_data_oneho.loc[test_data_oneho['city'] == 'LONDON', ['city']] = 1\n",
    "test_data_oneho.loc[test_data_oneho['city'] != 1, ['city']] = 0\n",
    "print(test_data_oneho['city'].value_counts())\n",
    "test_data_oneho.info()"
   ]
  },
  {
   "cell_type": "code",
   "execution_count": 48,
   "id": "secret-rocket",
   "metadata": {
    "scrolled": true
   },
   "outputs": [
    {
     "name": "stdout",
     "output_type": "stream",
     "text": [
      "<class 'pandas.core.frame.DataFrame'>\n",
      "Int64Index: 55000 entries, 0 to 5499\n",
      "Data columns (total 10 columns):\n",
      " #   Column        Non-Null Count  Dtype\n",
      "---  ------        --------------  -----\n",
      " 0   price         55000 non-null  int64\n",
      " 1   lease_type_F  55000 non-null  uint8\n",
      " 2   lease_type_L  55000 non-null  uint8\n",
      " 3   house_type_D  55000 non-null  uint8\n",
      " 4   house_type_F  55000 non-null  uint8\n",
      " 5   house_type_O  55000 non-null  uint8\n",
      " 6   house_type_S  55000 non-null  uint8\n",
      " 7   house_type_T  55000 non-null  uint8\n",
      " 8   city_0        55000 non-null  uint8\n",
      " 9   city_1        55000 non-null  uint8\n",
      "dtypes: int64(1), uint8(9)\n",
      "memory usage: 1.3 MB\n"
     ]
    }
   ],
   "source": [
    "test_data_oneho = pd.get_dummies(test_data_oneho, columns=['city'], prefix = ['city'])\n",
    "test_data_oneho.info()"
   ]
  },
  {
   "cell_type": "markdown",
   "id": "sound-providence",
   "metadata": {},
   "source": [
    "<b> I found something important: The data from older years has a column which is missing in the more recent data. In order to be able to use the models I trained I need to add this column to the test data as it is more recent. If this is not done some models returns an error as the number of features is different. Hence I am inserting this column on the exact position where it should be (same as in the older data) and defining a 0 value as there will be a 1 in one of the other two lease types.</b>"
   ]
  },
  {
   "cell_type": "code",
   "execution_count": 49,
   "id": "dynamic-interstate",
   "metadata": {
    "scrolled": true
   },
   "outputs": [
    {
     "name": "stdout",
     "output_type": "stream",
     "text": [
      "<class 'pandas.core.frame.DataFrame'>\n",
      "Int64Index: 55000 entries, 0 to 5499\n",
      "Data columns (total 11 columns):\n",
      " #   Column        Non-Null Count  Dtype\n",
      "---  ------        --------------  -----\n",
      " 0   price         55000 non-null  int64\n",
      " 1   lease_type_F  55000 non-null  uint8\n",
      " 2   lease_type_L  55000 non-null  uint8\n",
      " 3   lease_type_U  55000 non-null  int64\n",
      " 4   house_type_D  55000 non-null  uint8\n",
      " 5   house_type_F  55000 non-null  uint8\n",
      " 6   house_type_O  55000 non-null  uint8\n",
      " 7   house_type_S  55000 non-null  uint8\n",
      " 8   house_type_T  55000 non-null  uint8\n",
      " 9   city_0        55000 non-null  uint8\n",
      " 10  city_1        55000 non-null  uint8\n",
      "dtypes: int64(2), uint8(9)\n",
      "memory usage: 1.7 MB\n"
     ]
    }
   ],
   "source": [
    "test_data_oneho.insert(3,'lease_type_U', 0)\n",
    "test_data_oneho.info()"
   ]
  },
  {
   "cell_type": "markdown",
   "id": "dangerous-breakdown",
   "metadata": {},
   "source": [
    "# Splitting the test data into X and y"
   ]
  },
  {
   "cell_type": "code",
   "execution_count": 50,
   "id": "indoor-opera",
   "metadata": {},
   "outputs": [],
   "source": [
    "td_ready = test_data_oneho.copy()   #td.ready will be the test data se\n",
    "td_ready_labels = td_ready[\"price\"].copy() #td_ready_labels are the test data labels, in other words the targets to be predicted\n",
    "td_ready.drop(\"price\",axis=1,inplace=True) # hence I am dropping this column, in order to hide the target and see how will the model do"
   ]
  },
  {
   "cell_type": "code",
   "execution_count": 51,
   "id": "sustained-papua",
   "metadata": {
    "scrolled": true
   },
   "outputs": [
    {
     "name": "stdout",
     "output_type": "stream",
     "text": [
      "<class 'pandas.core.frame.DataFrame'>\n",
      "Int64Index: 55000 entries, 0 to 5499\n",
      "Data columns (total 10 columns):\n",
      " #   Column        Non-Null Count  Dtype\n",
      "---  ------        --------------  -----\n",
      " 0   lease_type_F  55000 non-null  uint8\n",
      " 1   lease_type_L  55000 non-null  uint8\n",
      " 2   lease_type_U  55000 non-null  int64\n",
      " 3   house_type_D  55000 non-null  uint8\n",
      " 4   house_type_F  55000 non-null  uint8\n",
      " 5   house_type_O  55000 non-null  uint8\n",
      " 6   house_type_S  55000 non-null  uint8\n",
      " 7   house_type_T  55000 non-null  uint8\n",
      " 8   city_0        55000 non-null  uint8\n",
      " 9   city_1        55000 non-null  uint8\n",
      "dtypes: int64(1), uint8(9)\n",
      "memory usage: 1.3 MB\n"
     ]
    }
   ],
   "source": [
    "td_ready.info()"
   ]
  },
  {
   "cell_type": "markdown",
   "id": "amended-morris",
   "metadata": {},
   "source": [
    "# Making predictions using the best model"
   ]
  },
  {
   "cell_type": "markdown",
   "id": "growing-village",
   "metadata": {},
   "source": [
    "My best model so far is the cross-validated Decision Tree Regressor, using 150 folds. First I am using .predict methond on the test data, then I am doing the cross-validation."
   ]
  },
  {
   "cell_type": "code",
   "execution_count": 58,
   "id": "comprehensive-timer",
   "metadata": {},
   "outputs": [
    {
     "data": {
      "text/plain": [
       "1415681.809349052"
      ]
     },
     "execution_count": 58,
     "metadata": {},
     "output_type": "execute_result"
    }
   ],
   "source": [
    "final_predictions = tree_reg.predict(td_ready)\n",
    "tree_mse = mean_squared_error(td_ready_labels, final_predictions)\n",
    "tree_rmse = np.sqrt(tree_mse)\n",
    "tree_rmse"
   ]
  },
  {
   "cell_type": "markdown",
   "id": "sixth-person",
   "metadata": {},
   "source": [
    "The RMSE is very high."
   ]
  },
  {
   "cell_type": "code",
   "execution_count": 59,
   "id": "confident-filename",
   "metadata": {},
   "outputs": [
    {
     "name": "stdout",
     "output_type": "stream",
     "text": [
      "Wall time: 5.61 s\n"
     ]
    }
   ],
   "source": [
    "%%time\n",
    "from sklearn.model_selection import cross_val_score\n",
    "\n",
    "K = 150\n",
    "\n",
    "scores = cross_val_score(tree_reg, td_ready, td_ready_labels,\n",
    "                         scoring=\"neg_mean_squared_error\", cv=K)\n",
    "tree_rmse_scores = np.sqrt(-scores)"
   ]
  },
  {
   "cell_type": "code",
   "execution_count": 60,
   "id": "oriental-relief",
   "metadata": {
    "scrolled": true
   },
   "outputs": [
    {
     "name": "stdout",
     "output_type": "stream",
     "text": [
      "Scores: [ 489323.  709885.  852656. 1504693.  310126.  438134.  414249.  639054.\n",
      "  488630.  343648.  769414.  851801.  609236.  350913.  827106.  532771.\n",
      "  400235.  737834.  272377. 1254322.  874636.  660402.  552785. 1563829.\n",
      "  349484.  600307.  367159.  643464.  401049.  355778.  462501. 1559169.\n",
      " 1127296.  912297.  320082.  655909. 8365141. 1048997. 1508521.  768589.\n",
      "  296242.  209634. 2099503. 3516939. 2887046.  226834.  369435.  361825.\n",
      "  322182.  413286.  278921.  202249.  209368.  340786.  181555.  263140.\n",
      "  292079.  269885.  248625.  346060.  251264.  185517.  415946.  324091.\n",
      "  296331. 1194045.  794569.  949998.  374700.  319197. 1185852.  223046.\n",
      "  368312. 1952964.  192504.  270421.  481757.  650606.  389356.  264280.\n",
      "  174737.  745991.  900965. 1446489.  332640.  870018.  587542.  469241.\n",
      " 2611505.  436923.  986967.  368951.  336809.  645020. 1077258.  341293.\n",
      "  307380.  239403.  136280.  252285. 1310950.  664253.  376732.  242472.\n",
      "  269190.  179936.  276632. 2355080.  205544.  358829.  291351. 2388470.\n",
      "  285872.  221726.  262220.  364873. 1298658.  461437.  376314.  496005.\n",
      "  547970. 2080033.  856375.  271556.  539502.  361989. 3567609. 3498195.\n",
      " 1789262.  259463.  645786.  485545.  749948.  243225.  474242.  213795.\n",
      "  315047.  394048.  417838.  314837.  295164.  233774.  367995. 5806726.\n",
      " 5705619. 4844817.  264457.  366995.  698285.  229342.]\n",
      "Mean: 820719.0\n",
      "Standard deviation: 1122046.0\n"
     ]
    }
   ],
   "source": [
    "display_scores(tree_rmse_scores)"
   ]
  },
  {
   "cell_type": "markdown",
   "id": "graphic-sample",
   "metadata": {},
   "source": [
    "Corss-validation improved it a little bit but it is still much worse than the resutls with the test data."
   ]
  },
  {
   "cell_type": "markdown",
   "id": "positive-budapest",
   "metadata": {},
   "source": [
    "# Present Solution\n",
    "\n",
    "<ol>\n",
    "    <li> Frame the problem </li>\n",
    "    <li> Get the data </li>\n",
    "    <li> Explore the data </li>\n",
    "    <li> Prepare the data </li>\n",
    "    <li> Explore Models </li>\n",
    "    <li> Fine-tune models</li>\n",
    "    <li> <b>Present solution</b> </li>\n",
    "    <li> Launch/maintain </li>\n",
    "</ol>"
   ]
  },
  {
   "cell_type": "markdown",
   "id": "impressed-nation",
   "metadata": {},
   "source": [
    "To conclude, I learned a lot about the machine learning process going through all the steps. I watched the lectures and studied the lecture code several times and I also read the textbook but I still could not achieve good RMSE scores on this task, nevertheless I did learn a lot about working with Python on Jupyter and using various libraries, preparing data and working with regression models.\n",
    "\n",
    "I tried to train and predict with some of the following models, suggested in lecture 5 but I could not get them to work so I am not including the attempts in this notebook:\n",
    "- ANN\n",
    "- Polynomial Regression \n",
    "- Stepwise Regression\n",
    "- Ridge Regression\n",
    "- Lasso Regression\n",
    "- ElasticNet Regression\n",
    "- Principal Components Regression (PCR)\n",
    "- Support vector regression\n",
    "- Tobit regression\n",
    "- Cox regression\n",
    "\n"
   ]
  },
  {
   "cell_type": "markdown",
   "id": "union-canadian",
   "metadata": {},
   "source": [
    "Hypothetically if I was working on this project, at this stage, I would contact the client and tell them that I cannot get any decent results using the data features provided. I would ask the client for more detailed data features, such as number of bedrooms, age of property, style of property (Victorian/Georgian/period etc), medina income for the property postcode area, and any other useful data they can provide. Then I will add the new data to the calculations and hopefully the results will improve."
   ]
  }
 ],
 "metadata": {
  "kernelspec": {
   "display_name": "Python 3",
   "language": "python",
   "name": "python3"
  },
  "language_info": {
   "codemirror_mode": {
    "name": "ipython",
    "version": 3
   },
   "file_extension": ".py",
   "mimetype": "text/x-python",
   "name": "python",
   "nbconvert_exporter": "python",
   "pygments_lexer": "ipython3",
   "version": "3.8.5"
  }
 },
 "nbformat": 4,
 "nbformat_minor": 5
}
